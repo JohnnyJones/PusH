{
 "cells": [
  {
   "cell_type": "markdown",
   "metadata": {},
   "source": [
    "# Quick Start Installation Guide"
   ]
  },
  {
   "cell_type": "markdown",
   "metadata": {},
   "source": [
    "> NOTE: PusH is currently only tested on Linux (Ubuntu 20.04 LTS). It is not known to work on other operating systems, including Windows."
   ]
  },
  {
   "cell_type": "markdown",
   "metadata": {},
   "source": [
    "### Environment Setup\n",
    "\n",
    "It is recommended to use a virtual environment for `PusH` installation. [Conda](https://docs.conda.io/projects/conda/en/stable/index.html) and [venv](https://docs.python.org/3/library/venv.html) are popular virtual environment tools. Python version 3.10 or higher is required. The commands below can be used to create an environment.\n",
    "\n",
    "```\n",
    "conda create -n push_env python=3.10\n",
    "conda activate push_env\n",
    "```"
   ]
  },
  {
   "cell_type": "markdown",
   "metadata": {},
   "source": [
    "### Method 1: Installation from PyPi\n",
    "\n",
    "1. `PusH` can be installed from the TestPyPi repository using pip. It is NOT recommended to install dependencies from the TestPyPi site since the TestPyPi repo contains different packages from the main PyPi repo.\n",
    "```\n",
    "pip install -i https://test.pypi.org/simple/ push --no-deps\n",
    "```\n",
    "\n",
    "2. `PusH` requires dependencies. Install these separately from the previous step.\n",
    "\n",
    "* [PyTorch](https://pytorch.org/) version 2.1.0 or greater\n",
    "* [NumPy](https://numpy.org/) version 1.26.0 or greater\n",
    "* [tqdm](https://tqdm.github.io/) version 4.66.1 or greater\n",
    "```\n",
    "pip install torch numpy tqdm\n",
    "```"
   ]
  },
  {
   "cell_type": "markdown",
   "metadata": {},
   "source": [
    "### Method 2: Installation from Source\n",
    "\n",
    "1. `PusH` can also be installed [from source](https://github.com/lbai-lab/push). This is generally for advanced users or contributors to `PusH` development. It also includes docs and experiments which have their own dependencies aside from those used by the base library.\n",
    "\n",
    "```\n",
    "git clone git@github.com:lbai-lab/push.git\n",
    "```\n",
    "\n",
    "2. After downloading the repository, navigate to the root of the download (contains pyproject.toml). Use pip to install `PusH`, which will also install dependencies.\n",
    "\n",
    "```\n",
    "pip install -e .\n",
    "```\n",
    "\n",
    "#### Testing Source Installation\n",
    "\n",
    "You can test the installation of `PusH` by running the following script from the root folder.\n",
    "\n",
    "```\n",
    "./run_tests.sh\n",
    "```"
   ]
  }
 ],
 "metadata": {
  "kernelspec": {
   "display_name": "push_exp",
   "language": "python",
   "name": "python3"
  },
  "language_info": {
   "codemirror_mode": {
    "name": "ipython",
    "version": 3
   },
   "file_extension": ".py",
   "mimetype": "text/x-python",
   "name": "python",
   "nbconvert_exporter": "python",
   "pygments_lexer": "ipython3",
   "version": "3.10.13"
  }
 },
 "nbformat": 4,
 "nbformat_minor": 2
}
