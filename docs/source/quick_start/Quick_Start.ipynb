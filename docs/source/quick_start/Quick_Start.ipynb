{
 "cells": [
  {
   "cell_type": "markdown",
   "metadata": {},
   "source": [
    "# Environment Setup\n",
    "It is recommended to use a virtual environment for `PusH` installation. [Conda](https://docs.conda.io/projects/conda/en/stable/index.html) and [venv](https://docs.python.org/3/library/venv.html) are popular virtual environment tools. Be sure to use python version 3.10.\n"
   ]
  },
  {
   "cell_type": "markdown",
   "metadata": {},
   "source": [
    "```\n",
    "conda create -n push_env python=3.10\n",
    "conda activate push_env\n",
    "```"
   ]
  },
  {
   "cell_type": "markdown",
   "metadata": {},
   "source": [
    "# Installation\n",
    "Navigate to the root of `PusH` folder before proceeding. Install using:"
   ]
  },
  {
   "cell_type": "markdown",
   "metadata": {},
   "source": [
    "```\n",
    "pip install -e .\n",
    "```"
   ]
  },
  {
   "cell_type": "markdown",
   "metadata": {},
   "source": [
    "# Testing\n",
    "Navigate to the root of push folder before proceeding. The following script will do a sample run using PusH."
   ]
  },
  {
   "cell_type": "markdown",
   "metadata": {},
   "source": [
    "```./run_tests.sh```"
   ]
  }
 ],
 "metadata": {
  "kernelspec": {
   "display_name": "push_exp",
   "language": "python",
   "name": "python3"
  },
  "language_info": {
   "codemirror_mode": {
    "name": "ipython",
    "version": 3
   },
   "file_extension": ".py",
   "mimetype": "text/x-python",
   "name": "python",
   "nbconvert_exporter": "python",
   "pygments_lexer": "ipython3",
   "version": "3.10.12"
  }
 },
 "nbformat": 4,
 "nbformat_minor": 2
}
