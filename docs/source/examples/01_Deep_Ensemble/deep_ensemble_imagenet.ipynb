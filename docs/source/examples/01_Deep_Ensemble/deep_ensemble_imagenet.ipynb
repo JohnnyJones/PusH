{
 "cells": [
  {
   "cell_type": "markdown",
   "metadata": {},
   "source": [
    "## Deep Ensemble with Imagenet"
   ]
  },
  {
   "cell_type": "code",
   "execution_count": null,
   "metadata": {},
   "outputs": [],
   "source": [
    "import torch\n",
    "import torchvision\n",
    "from torch import nn, optim, autograd\n",
    "from torch.nn import functional as F\n",
    "from torchvision import transforms, datasets\n",
    "import numpy as np\n",
    "from sklearn.metrics import roc_auc_score\n",
    "import scipy\n",
    "from utils.LB_utils import * \n",
    "import utils.LB_utils_special as LB_utils_special\n",
    "from utils.load_not_MNIST import notMNIST\n",
    "import os\n",
    "import time\n",
    "import matplotlib.pyplot as plt\n",
    "import laplace\n",
    "\n",
    "s = 1\n",
    "np.random.seed(s)\n",
    "torch.manual_seed(s)\n",
    "torch.cuda.manual_seed(s)\n",
    "torch.backends.cudnn.deterministic = True\n",
    "torch.backends.cudnn.benchmark = False"
   ]
  },
  {
   "cell_type": "code",
   "execution_count": 3,
   "metadata": {},
   "outputs": [],
   "source": [
    "#load imagenet\n",
    "#imagenet_train_root = os.path.abspath('your imagenet path')\n",
    "#imagenet_val_root = os.path.abspath('your imagenet path')\n",
    "\n",
    "# Get the current working directory (directory of your notebook)\n",
    "notebook_directory = os.path.dirname(os.path.abspath(\"deep_ensemble_imagenet.ipynb\"))\n",
    "\n",
    "# Navigate to the parent folder (assuming \"usr\" and \"home\" are at the same level)\n",
    "parent_directory = os.path.abspath(os.path.join(notebook_directory, \"..\",\"..\",\"..\",\"..\",\"..\",\"..\",\"..\"))\n",
    "# Construct the path to the ImageNet directory\n",
    "imagenet_directory = os.path.abspath(os.path.join(parent_directory, \"/usr/data1/imagenet\"))\n",
    "\n",
    "# print(imagenet_directory)\n",
    "\n",
    "imagenet_train_root = os.path.abspath(imagenet_directory + '/train')\n",
    "imagenet_val_root = os.path.abspath(imagenet_directory + '/val')\n",
    "\n",
    "\n",
    "normalize = transforms.Normalize(mean=[0.485, 0.456, 0.406],\n",
    "                                     std=[0.229, 0.224, 0.225])\n",
    "\n",
    "transform_imagenet_train = transforms.Compose([\n",
    "            transforms.RandomResizedCrop(224),\n",
    "            transforms.RandomHorizontalFlip(),\n",
    "            transforms.ToTensor(),\n",
    "            normalize,\n",
    "        ])\n",
    "\n",
    "transform_imagenet_val =  transforms.Compose([\n",
    "            transforms.Resize(256),\n",
    "            transforms.CenterCrop(224),\n",
    "            transforms.ToTensor(),\n",
    "            normalize,\n",
    "        ])\n",
    "\n",
    "imagenet_train = datasets.ImageFolder(imagenet_train_root, transform=transform_imagenet_train)\n",
    "indices_small = np.random.choice(np.arange(0, len(imagenet_train)), size=(500,), replace=False)\n",
    "imagenet_train_small = torch.utils.data.Subset(imagenet_train, torch.tensor(indices_small))\n",
    "imagenet_val = datasets.ImageFolder(imagenet_val_root, transform=transform_imagenet_val)\n",
    "\n",
    "train_loader = torch.utils.data.DataLoader(\n",
    "        imagenet_train_small,\n",
    "        batch_size=16,\n",
    "        shuffle=True)\n",
    "\n",
    "train_loader_16 = torch.utils.data.DataLoader(\n",
    "        imagenet_train_small,\n",
    "        batch_size=16,\n",
    "        shuffle=True)\n",
    "\n",
    "train_loader_64 = torch.utils.data.DataLoader(\n",
    "        imagenet_train_small,\n",
    "        batch_size=64,\n",
    "        shuffle=True)\n",
    "\n",
    "train_loader_128 = torch.utils.data.DataLoader(\n",
    "        imagenet_train_small,\n",
    "        batch_size=128,\n",
    "        shuffle=True)\n",
    "\n",
    "val_loader = torch.utils.data.DataLoader(\n",
    "        imagenet_val,\n",
    "        batch_size=64)"
   ]
  },
  {
   "cell_type": "code",
   "execution_count": 4,
   "metadata": {},
   "outputs": [
    {
     "name": "stdout",
     "output_type": "stream",
     "text": [
      "[3.25, 2.0086104634371584]\n",
      "2.0086104634371584\n",
      "3.25\n"
     ]
    }
   ],
   "source": [
    "import matplotlib\n",
    "import tueplots\n",
    "from tueplots import bundles\n",
    "plt.rcParams.update(tueplots.bundles.icml2022())\n",
    "\n",
    "print(plt.rcParams['figure.figsize'])\n",
    "figwidth = plt.rcParams['figure.figsize'][0]\n",
    "figheight = plt.rcParams['figure.figsize'][1]\n",
    "matplotlib.rcParams['font.family'] = \"serif\"\n",
    "matplotlib.rcParams['font.serif'] = 'Times new Roman'\n",
    "matplotlib.rcParams['text.usetex'] = True\n",
    "print(figheight)\n",
    "print(figwidth)"
   ]
  },
  {
   "cell_type": "code",
   "execution_count": 5,
   "metadata": {},
   "outputs": [
    {
     "name": "stderr",
     "output_type": "stream",
     "text": [
      "100%|██████████| 1/1 [00:03<00:00,  3.47s/it]\n"
     ]
    }
   ],
   "source": [
    "import models\n",
    "from models.densenet import densenet121\n",
    "import torch\n",
    "from torch.utils.data import DataLoader\n",
    "import push.bayes.ensemble\n",
    "\n",
    "#load densenet\n",
    "\n",
    "# densenet = densenet121(pretrained=False).cuda()\n",
    "# densenet.eval()\n",
    "\n",
    "epochs = 1\n",
    "\n",
    "two_particle_params = push.bayes.ensemble.train_deep_ensemble(\n",
    "        train_loader_128,\n",
    "        torch.nn.CrossEntropyLoss(),\n",
    "        epochs,\n",
    "        densenet121, False,\n",
    "        num_devices=2,\n",
    "        num_ensembles=2,\n",
    "    )"
   ]
  },
  {
   "cell_type": "code",
   "execution_count": null,
   "metadata": {},
   "outputs": [],
   "source": []
  }
 ],
 "metadata": {
  "kernelspec": {
   "display_name": "push_exp",
   "language": "python",
   "name": "python3"
  },
  "language_info": {
   "codemirror_mode": {
    "name": "ipython",
    "version": 3
   },
   "file_extension": ".py",
   "mimetype": "text/x-python",
   "name": "python",
   "nbconvert_exporter": "python",
   "pygments_lexer": "ipython3",
   "version": "3.10.12"
  }
 },
 "nbformat": 4,
 "nbformat_minor": 2
}
