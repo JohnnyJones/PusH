{
 "cells": [
  {
   "cell_type": "code",
   "execution_count": 1,
   "metadata": {},
   "outputs": [],
   "source": [
    "import torch\n",
    "import torch.nn.functional as F\n",
    "import matplotlib.pyplot as plt\n",
    "import torch.optim as optim\n",
    "import torch.nn as nn\n",
    "\n",
    "# Generate dataset and grid\n",
    "torch.manual_seed(0)  # Set a seed for reproducibility\n",
    "X = torch.rand(100, 1) * 0.5\n",
    "x_grid = torch.linspace(-5, 5, 1000).reshape(-1, 1)\n",
    "\n",
    "# Define function\n",
    "def target_toy(x):\n",
    "    torch.manual_seed(0)  # Reset seed for consistent randomness\n",
    "    epsilons = torch.randn(3) * 0.02\n",
    "    return (\n",
    "        x + 0.3 * torch.sin(2 * torch.pi * (x + epsilons[0])) +\n",
    "        0.3 * torch.sin(4 * torch.pi * (x + epsilons[1])) + epsilons[2]\n",
    "    )\n",
    "\n",
    "# Generate target values\n",
    "torch.manual_seed(0)  # Reset seed for consistent randomness\n",
    "Y = torch.stack([target_toy(x) for x in X])\n"
   ]
  },
  {
   "cell_type": "code",
   "execution_count": 2,
   "metadata": {},
   "outputs": [
    {
     "data": {
      "image/png": "[encoded data removed]",
      "text/plain": [
       "<Figure size 640x480 with 1 Axes>"
      ]
     },
     "metadata": {},
     "output_type": "display_data"
    }
   ],
   "source": [
    "# Plot the generated data\n",
    "plt.figure()  # figsize=[12,6], dpi=200)\n",
    "plt.plot(X, Y, \"kx\", label=\"Toy data\", alpha=0.8)\n",
    "# plt.title('Simple 1D example with toy data by Blundell et. al (2015)')\n",
    "plt.xlabel(\"$x$\")\n",
    "plt.ylabel(\"$y$\")\n",
    "plt.xlim(-0.5, 1.0)\n",
    "plt.ylim(-0.8, 1.6)\n",
    "plt.legend()\n",
    "plt.show()"
   ]
  },
  {
   "cell_type": "code",
   "execution_count": 3,
   "metadata": {},
   "outputs": [],
   "source": [
    "class GenericNet(nn.Module):\n",
    "    def __init__(self, input_dim):\n",
    "        super(GenericNet, self).__init__()\n",
    "        self.input_dim = input_dim\n",
    "        \n",
    "        self.net = nn.Sequential(\n",
    "            nn.Linear(in_features=input_dim, out_features=16),\n",
    "            nn.ELU(),\n",
    "            nn.Linear(in_features=16, out_features=16),\n",
    "            nn.ELU(),\n",
    "            nn.Linear(in_features=16, out_features=1)\n",
    "        )\n",
    "        # Additional layers can be added here based on the architecture\n",
    "\n",
    "    def forward(self, x):\n",
    "        return self.net(x)\n",
    "\n",
    "    def init_weights(self, m):\n",
    "        if isinstance(m, nn.Linear):\n",
    "            nn.init.xavier_uniform_(m.weight)\n",
    "            m.bias.data.fill_(0.01)\n",
    "\n",
    "\n",
    "class Model(nn.Module):\n",
    "    def __init__(self, beta):\n",
    "        super(Model, self).__init__()\n",
    "        self.prior = GenericNet(input_dim=1)  # Specify the input dimension\n",
    "        self.trainable = GenericNet(input_dim=1)  # Specify the input dimension\n",
    "        self.beta = beta\n",
    "\n",
    "    def forward(self, x):\n",
    "        x1 = self.prior(x)\n",
    "        x2 = self.trainable(x)\n",
    "        return self.beta * x1 + x2\n",
    "\n"
   ]
  },
  {
   "cell_type": "code",
   "execution_count": null,
   "metadata": {},
   "outputs": [],
   "source": []
  }
 ],
 "metadata": {
  "kernelspec": {
   "display_name": "push_exp",
   "language": "python",
   "name": "python3"
  },
  "language_info": {
   "codemirror_mode": {
    "name": "ipython",
    "version": 3
   },
   "file_extension": ".py",
   "mimetype": "text/x-python",
   "name": "python",
   "nbconvert_exporter": "python",
   "pygments_lexer": "ipython3",
   "version": "3.10.12"
  }
 },
 "nbformat": 4,
 "nbformat_minor": 2
}
