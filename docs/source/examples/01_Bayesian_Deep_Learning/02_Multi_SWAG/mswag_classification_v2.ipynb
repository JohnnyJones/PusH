{
 "cells": [
  {
   "cell_type": "markdown",
   "metadata": {},
   "source": [
    "# Classification"
   ]
  },
  {
   "cell_type": "code",
   "execution_count": 1,
   "metadata": {},
   "outputs": [],
   "source": [
    "import experiments.nns.simplenet.simplenet\n",
    "from experiments.nns.simplenet.simplenet import SimpleNet\n",
    "from experiments.nns.cnn.cnn import CNN\n",
    "from experiments.nns.lenet.lenet import LeNet\n",
    "import torch.optim as optim\n",
    "import torch.nn as nn\n",
    "import jax\n",
    "import jax.numpy as jnp\n",
    "import matplotlib.pyplot as plt"
   ]
  },
  {
   "cell_type": "code",
   "execution_count": 2,
   "metadata": {},
   "outputs": [],
   "source": [
    "import torch\n",
    "import copy\n",
    "import os\n",
    "from torch.utils.data import DataLoader\n",
    "from torchvision import datasets, transforms\n",
    "\n",
    "\n",
    "notebook_directory = os.path.dirname(os.path.abspath(\"mswag_classification_v2.ipynb\"))\n",
    "# Navigate to the parent folder (assuming \"usr\" and \"home\" are at the same level)\n",
    "parent_directory = os.path.abspath(os.path.join(notebook_directory, \"..\",\"..\",\"..\",\"..\",\"..\",\"..\",\"..\"))\n",
    "\n",
    "# Construct the path to the ImageNet directory\n",
    "mnist_directory = os.path.abspath(os.path.join(parent_directory, \"/usr/data1/vision/data/\"))\n",
    "\n",
    "mnist_directory = os.path.abspath(os.path.join(parent_directory, \"/usr/data1/vision/data/\"))\n",
    "\n",
    "# Define a transform to normalize the data\n",
    "transform = transforms.Compose([transforms.ToTensor(), transforms.Normalize((0.5,), (0.5,))])\n",
    "\n",
    "\n",
    "# Load the MNIST training dataset\n",
    "train_dataset = datasets.MNIST(root=mnist_directory, train=True, download=False, transform=transform)\n",
    "\n",
    "\n",
    "# Assuming you have these variables defined\n",
    "# mnist_directory, transform, transform_rotation\n",
    "\n",
    "\n",
    "# Load the MNIST test dataset\n",
    "test_dataset = datasets.MNIST(root=mnist_directory, train=False, download=False, transform=transform)\n",
    "# rotated_test_dataset = datasets.MNIST(root=mnist_directory, train=False, download=False, transform=transform_rotation)\n",
    "\n",
    "# # Select 1/10 samples of each class for both train and test datasets\n",
    "# train_subset_indices = []\n",
    "# test_subset_indices = []\n",
    "\n",
    "# class_indices = [i for i in range(len(test_dataset)) if test_dataset[i][1] == test_class]\n",
    "# for c in range(10):\n",
    "#     class_indices = [i for i in range(len(train_dataset)) if train_dataset[i][1] == c]\n",
    "#     train_subset_indices.extend(class_indices[:len(class_indices)//10])\n",
    "    \n",
    "#     class_indices = [i for i in range(len(test_dataset)) if test_dataset[i][1] == c]\n",
    "#     test_subset_indices.extend(class_indices[:len(class_indices)//10])\n",
    "\n",
    "# Create the subset with 1/10th of the original size for each class\n",
    "# train_subset = torch.utils.data.Subset(train_dataset, train_subset_indices)\n",
    "# rotated_train_subset = torch.utils.data.Subset(rotated_train_dataset, train_subset_indices)\n",
    "\n",
    "\n",
    "# # Save the subset indices inside mnist_directory\n",
    "train_idx_path = os.path.join(mnist_directory, \"train_indices.pth\")\n",
    "# rotated_idx_sub_path = os.path.join(mnist_directory, \"rotated_train_indices.pth\")\n",
    "# test_idx_path = os.path.join(mnist_directory, \"test_indices.pth\")\n",
    "# rotated_test_idx_sub_path = os.path.join(mnist_directory, \"rotated_test_indices.pth\")\n",
    "# torch.save(train_subset_indices, train_idx_path)\n",
    "# torch.save(train_subset_indices, rotated_idx_sub_path)\n",
    "# torch.save(test_subset_indices, test_idx_path)\n",
    "\n",
    "\n",
    "# Load the subset indices from mnist_directory\n",
    "loaded_train_indices = torch.load(train_idx_path)\n",
    "# loaded_test_indices = torch.load(test_idx_path)\n",
    "\n",
    "# Create the subset using the loaded indices\n",
    "loaded_train_subset = torch.utils.data.Subset(train_dataset, loaded_train_indices)\n",
    "# loaded_test_subset = torch.utils.data.Subset(test_dataset, loaded_test_indices)"
   ]
  },
  {
   "cell_type": "code",
   "execution_count": 3,
   "metadata": {},
   "outputs": [],
   "source": [
    "import torch\n",
    "import copy\n",
    "import os\n",
    "from torch.utils.data import DataLoader\n",
    "from torchvision import datasets, transforms\n",
    "from experiments.nns.bdl import CustomMNISTDataset\n",
    "\n",
    "# Example usage:\n",
    "selected_numbers = [1]\n",
    "# Include rotation in the transformation\n",
    "# transform = transforms.Compose([\n",
    "#     transforms.RandomRotation(degrees=(-180, 180), fill=(0,)),\n",
    "#     transforms.ToTensor(),\n",
    "#     transforms.Normalize((0.5,), (0.5,))\n",
    "# ])\n",
    "\n",
    "# rotation_angles = [0, 15, 30, 45, 60, 75, 80, 95]\n",
    "rotation_angles = []\n",
    "for i in range(12):\n",
    "    rotation_angles.append(i*5.5)\n",
    "def get_rotated_mnist_dataset(degrees):\n",
    "    rotate_transform = transforms.Compose([\n",
    "            transforms.RandomRotation(degrees=(degrees, degrees), fill=(0,)),\n",
    "            transforms.ToTensor(),\n",
    "            transforms.Normalize((0.5,), (0.5,))\n",
    "        ])\n",
    "    rotated_dataset = CustomMNISTDataset(root=mnist_directory, numbers=selected_numbers, train=False, transform=rotate_transform)\n",
    "    rotated_loader = DataLoader(rotated_dataset, batch_size=512, shuffle=False)\n",
    "    return rotated_dataset, rotated_loader\n",
    "rotated_datasets = []\n",
    "rotated_loaders = []\n",
    "\n",
    "for angle in rotation_angles:\n",
    "    rotated_dataset, rotated_loader = get_rotated_mnist_dataset(angle)\n",
    "    rotated_datasets.append(rotated_dataset)\n",
    "    rotated_loaders.append(rotated_loader)\n",
    "\n",
    "\n",
    "test_dataset = CustomMNISTDataset(root=mnist_directory, numbers=selected_numbers, train=False, transform=transform)\n",
    "test_loader = DataLoader(test_dataset, batch_size=512, shuffle=False)"
   ]
  },
  {
   "cell_type": "code",
   "execution_count": 4,
   "metadata": {},
   "outputs": [],
   "source": [
    "# Create data loaders\n",
    "batch_size = 512\n",
    "train_loader = DataLoader(loaded_train_subset, batch_size=batch_size, shuffle=True)\n",
    "# test_loader = DataLoader(loaded_test_subset, batch_size=512, shuffle=False)"
   ]
  },
  {
   "cell_type": "code",
   "execution_count": 5,
   "metadata": {},
   "outputs": [
    {
     "name": "stderr",
     "output_type": "stream",
     "text": [
      "100%|██████████| 40/40 [13:09<00:00, 19.73s/it, loss=tensor(0.0329)]\n",
      "100%|██████████| 10/10 [03:29<00:00, 20.99s/it, loss=tensor(0.0387)]\n"
     ]
    }
   ],
   "source": [
    "import torch\n",
    "import push.bayes.swag\n",
    "from torch.utils.data import DataLoader\n",
    "\n",
    "# ensemble = push.bayes.ensemble.train_deep_ensemble(\n",
    "#         train_loader,\n",
    "#         torch.nn.CrossEntropyLoss(),\n",
    "#         epochs,\n",
    "#         LeNet,\n",
    "#         num_devices=2,\n",
    "#         num_ensembles=100,\n",
    "#         cache_size=25\n",
    "#     )\n",
    "\n",
    "swag_epochs = 10\n",
    "pretrain_epochs = 40\n",
    "loss_fn = torch.nn.CrossEntropyLoss()\n",
    "\n",
    "mswag = push.bayes.swag.train_mswag(\n",
    "    train_loader,\n",
    "    loss_fn,\n",
    "    pretrain_epochs,\n",
    "    swag_epochs,\n",
    "    LeNet,\n",
    "    num_devices=2,\n",
    "    num_models = 50,\n",
    ")\n"
   ]
  },
  {
   "cell_type": "code",
   "execution_count": 13,
   "metadata": {},
   "outputs": [],
   "source": [
    "outputs = []\n",
    "for loader in rotated_loaders:\n",
    "    outputs.append(mswag.posterior_pred(loader,f_reg=False, mode=[\"mode\",\"logits\",\"prob\"]))"
   ]
  },
  {
   "cell_type": "code",
   "execution_count": 14,
   "metadata": {},
   "outputs": [],
   "source": [
    "def get_mode(output, mode):\n",
    "    return output[mode]\n",
    "    \n",
    "# get_mode(two_model_outputs0, \"logits\")[:,:,(1,3,7)][0][:,(0)]"
   ]
  },
  {
   "cell_type": "code",
   "execution_count": 15,
   "metadata": {},
   "outputs": [
    {
     "data": {
      "text/plain": [
       "10"
      ]
     },
     "execution_count": 15,
     "metadata": {},
     "output_type": "execute_result"
    }
   ],
   "source": [
    "len(get_mode(outputs[0], \"logits\"))"
   ]
  },
  {
   "cell_type": "code",
   "execution_count": 16,
   "metadata": {},
   "outputs": [],
   "source": [
    "# Display rotated images\n",
    "# num_images_to_display = \n",
    "idx_image_to_display = 4\n",
    "imgs = []\n",
    "lbls = []\n",
    "for dataset in rotated_datasets:\n",
    "    rotated_loader_small = DataLoader(dataset, batch_size=512, shuffle=False)\n",
    "    for images, labels in rotated_loader_small:\n",
    "        imgs.append(images[idx_image_to_display])\n",
    "        lbls.append(labels[idx_image_to_display])\n",
    "        break"
   ]
  },
  {
   "cell_type": "code",
   "execution_count": 17,
   "metadata": {},
   "outputs": [],
   "source": [
    "from matplotlib.offsetbox import OffsetImage, AnnotationBbox\n",
    "\n",
    "\n",
    "def offset_image(coord, i, ax, low_img, low_index, zoom):\n",
    "    '''from mnist_classification_mc_dropout.ipynb [1]'''\n",
    "    img = imgs[i]\n",
    "    im = OffsetImage(img.squeeze(), zoom=zoom)\n",
    "    im.image.axes = ax\n",
    "\n",
    "    ab = AnnotationBbox(\n",
    "        im,\n",
    "        (coord, low_img),\n",
    "        xybox=(0.0, low_index),\n",
    "        frameon=False,\n",
    "        boxcoords=\"offset points\",\n",
    "    )\n",
    "    ax.add_artist(ab)"
   ]
  },
  {
   "cell_type": "code",
   "execution_count": 18,
   "metadata": {},
   "outputs": [
    {
     "data": {
      "image/png": "[encoded data removed]",
      "text/plain": [
       "<Figure size 640x480 with 1 Axes>"
      ]
     },
     "metadata": {},
     "output_type": "display_data"
    }
   ],
   "source": [
    "\n",
    "fig, ax = plt.subplots(1)\n",
    "zoom = 0.4\n",
    "# else:\n",
    "#     plt.rcParams[\"font.size\"] = 16\n",
    "#     fig, ax = plt.subplots(1, figsize=(12, 6))\n",
    "#     zoom = 1\n",
    "index = jnp.arange(len(outputs))\n",
    "for i, output in enumerate(outputs):\n",
    "    '''plot generated from mnist_classification_mc_dropout.ipynb [1]'''\n",
    "    ax.eventplot(\n",
    "        get_mode(output, \"logits\")[:,:,(1,3,7)][idx_image_to_display][:,(0)],\n",
    "        orientation=\"vertical\",\n",
    "        lineoffsets=i,\n",
    "        linelengths=0.8,\n",
    "        colors=\"green\",\n",
    "        alpha=0.75,\n",
    "    )\n",
    "    ax.eventplot(\n",
    "        get_mode(output, \"logits\")[:,:,(1,3,7)][idx_image_to_display][:,(1)],\n",
    "        orientation=\"vertical\",\n",
    "        lineoffsets=i,\n",
    "        linelengths=0.8,\n",
    "        colors=\"orange\",\n",
    "        alpha=0.75,\n",
    "    )\n",
    "    ax.eventplot(\n",
    "        get_mode(output, \"logits\")[:,:,(1,3,7)][idx_image_to_display][:,(2)],\n",
    "        orientation=\"vertical\",\n",
    "        lineoffsets=i,\n",
    "        linelengths=0.8,\n",
    "        colors=\"blue\",\n",
    "        alpha=0.6,\n",
    "    )\n",
    "\n",
    "ax.set_xticks(index)\n",
    "ax.set_xticklabels(index + 1)\n",
    "ax.tick_params(axis=\"x\", which=\"major\", pad=8)\n",
    "ax.set_ylabel(\"Logits\")\n",
    "l, h = ax.get_ylim()\n",
    "for i in index:\n",
    "    offset_image(i, i, ax, l, l - 5, zoom)\n",
    "ax.legend([\"1\", \"5\", \"7\"], bbox_to_anchor=(0.6, 1.0))\n",
    "# sns.despine()\n",
    "# savefig(\"mnist_softmax_input\", tight_bbox=True, pad=1)\n",
    "plt.show()"
   ]
  },
  {
   "cell_type": "code",
   "execution_count": 19,
   "metadata": {},
   "outputs": [
    {
     "data": {
      "image/png": "[encoded data removed]",
      "text/plain": [
       "<Figure size 640x480 with 1 Axes>"
      ]
     },
     "metadata": {},
     "output_type": "display_data"
    }
   ],
   "source": [
    "fig, ax = plt.subplots(1)\n",
    "zoom = 0.4\n",
    "# else:\n",
    "#     plt.rcParams[\"font.size\"] = 16\n",
    "#     fig, ax = plt.subplots(1, figsize=(12, 6))\n",
    "#     zoom = 1\n",
    "index = jnp.arange(len(outputs))\n",
    "for i, output in enumerate(outputs):\n",
    "    '''plot generated from mnist_classification_mc_dropout.ipynb [1]'''\n",
    "    ax.eventplot(\n",
    "        get_mode(output, \"prob\")[:,:,(1,3,7)][idx_image_to_display][:,(0)],\n",
    "        orientation=\"vertical\",\n",
    "        lineoffsets=i,\n",
    "        linelengths=0.8,\n",
    "        colors=\"green\",\n",
    "        alpha=0.75,\n",
    "    )\n",
    "    ax.eventplot(\n",
    "        get_mode(output, \"prob\")[:,:,(1,3,7)][idx_image_to_display][:,(1)],\n",
    "        orientation=\"vertical\",\n",
    "        lineoffsets=i,\n",
    "        linelengths=0.8,\n",
    "        colors=\"orange\",\n",
    "        alpha=0.75,\n",
    "    )\n",
    "    ax.eventplot(\n",
    "        get_mode(output, \"prob\")[:,:,(1,3,7)][idx_image_to_display][:,(2)],\n",
    "        orientation=\"vertical\",\n",
    "        lineoffsets=i,\n",
    "        linelengths=0.8,\n",
    "        colors=\"blue\",\n",
    "        alpha=0.6,\n",
    "    )\n",
    "\n",
    "ax.set_xticks(index)\n",
    "ax.set_xticklabels(index + 1)\n",
    "ax.tick_params(axis=\"x\", which=\"major\", pad=8)\n",
    "ax.set_ylabel(\"Probabilities\")\n",
    "l, h = ax.get_ylim()\n",
    "for i in index:\n",
    "    offset_image(i, i, ax, l, l - 5, zoom)\n",
    "ax.legend([\"1\", \"5\", \"7\"], bbox_to_anchor=(0.6, 1.0))\n",
    "# sns.despine()\n",
    "# savefig(\"mnist_softmax_input\", tight_bbox=True, pad=1)\n",
    "plt.show()"
   ]
  },
  {
   "cell_type": "markdown",
   "metadata": {},
   "source": [
    "[1] Kevin Murphy. Probabilistic Machine Learning Advanced Topics. Chapter 17. The MIT Press: Adaptive computation and machine learning series (2023). Cambridge, Massachusetts."
   ]
  }
 ],
 "metadata": {
  "kernelspec": {
   "display_name": "push_exp",
   "language": "python",
   "name": "python3"
  },
  "language_info": {
   "codemirror_mode": {
    "name": "ipython",
    "version": 3
   },
   "file_extension": ".py",
   "mimetype": "text/x-python",
   "name": "python",
   "nbconvert_exporter": "python",
   "pygments_lexer": "ipython3",
   "version": "3.10.12"
  }
 },
 "nbformat": 4,
 "nbformat_minor": 2
}
