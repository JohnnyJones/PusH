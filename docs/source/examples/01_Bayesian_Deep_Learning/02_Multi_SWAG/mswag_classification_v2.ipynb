{
 "cells": [
  {
   "cell_type": "markdown",
   "metadata": {},
   "source": [
    "# Classification"
   ]
  },
  {
   "cell_type": "code",
   "execution_count": 1,
   "metadata": {},
   "outputs": [],
   "source": [
    "import experiments.nns.simplenet.simplenet\n",
    "from experiments.nns.simplenet.simplenet import SimpleNet\n",
    "from experiments.nns.cnn.cnn import CNN\n",
    "from experiments.nns.lenet.lenet import LeNet\n",
    "import torch.optim as optim\n",
    "import torch.nn as nn\n",
    "import jax\n",
    "import jax.numpy as jnp\n",
    "import matplotlib.pyplot as plt"
   ]
  },
  {
   "cell_type": "code",
   "execution_count": 2,
   "metadata": {},
   "outputs": [],
   "source": [
    "import torch\n",
    "import copy\n",
    "import os\n",
    "from torch.utils.data import DataLoader\n",
    "from torchvision import datasets, transforms\n",
    "\n",
    "\n",
    "notebook_directory = os.path.dirname(os.path.abspath(\"mswag_classification_v2.ipynb\"))\n",
    "# Navigate to the parent folder (assuming \"usr\" and \"home\" are at the same level)\n",
    "parent_directory = os.path.abspath(os.path.join(notebook_directory, \"..\",\"..\",\"..\",\"..\",\"..\",\"..\",\"..\"))\n",
    "\n",
    "# Construct the path to the ImageNet directory\n",
    "mnist_directory = os.path.abspath(os.path.join(parent_directory, \"/usr/data1/vision/data/\"))\n",
    "\n",
    "mnist_directory = os.path.abspath(os.path.join(parent_directory, \"/usr/data1/vision/data/\"))\n",
    "\n",
    "# Define a transform to normalize the data\n",
    "transform = transforms.Compose([transforms.ToTensor(), transforms.Normalize((0.5,), (0.5,))])\n",
    "\n",
    "\n",
    "# Load the MNIST training dataset\n",
    "train_dataset = datasets.MNIST(root=mnist_directory, train=True, download=False, transform=transform)\n",
    "\n",
    "\n",
    "# Assuming you have these variables defined\n",
    "# mnist_directory, transform, transform_rotation\n",
    "\n",
    "\n",
    "# Load the MNIST test dataset\n",
    "test_dataset = datasets.MNIST(root=mnist_directory, train=False, download=False, transform=transform)\n",
    "# rotated_test_dataset = datasets.MNIST(root=mnist_directory, train=False, download=False, transform=transform_rotation)\n",
    "\n",
    "# # Select 1/10 samples of each class for both train and test datasets\n",
    "# train_subset_indices = []\n",
    "# test_subset_indices = []\n",
    "\n",
    "# class_indices = [i for i in range(len(test_dataset)) if test_dataset[i][1] == test_class]\n",
    "# for c in range(10):\n",
    "#     class_indices = [i for i in range(len(train_dataset)) if train_dataset[i][1] == c]\n",
    "#     train_subset_indices.extend(class_indices[:len(class_indices)//10])\n",
    "    \n",
    "#     class_indices = [i for i in range(len(test_dataset)) if test_dataset[i][1] == c]\n",
    "#     test_subset_indices.extend(class_indices[:len(class_indices)//10])\n",
    "\n",
    "# Create the subset with 1/10th of the original size for each class\n",
    "# train_subset = torch.utils.data.Subset(train_dataset, train_subset_indices)\n",
    "# rotated_train_subset = torch.utils.data.Subset(rotated_train_dataset, train_subset_indices)\n",
    "\n",
    "\n",
    "# # Save the subset indices inside mnist_directory\n",
    "train_idx_path = os.path.join(mnist_directory, \"train_indices.pth\")\n",
    "# rotated_idx_sub_path = os.path.join(mnist_directory, \"rotated_train_indices.pth\")\n",
    "# test_idx_path = os.path.join(mnist_directory, \"test_indices.pth\")\n",
    "# rotated_test_idx_sub_path = os.path.join(mnist_directory, \"rotated_test_indices.pth\")\n",
    "# torch.save(train_subset_indices, train_idx_path)\n",
    "# torch.save(train_subset_indices, rotated_idx_sub_path)\n",
    "# torch.save(test_subset_indices, test_idx_path)\n",
    "\n",
    "\n",
    "# Load the subset indices from mnist_directory\n",
    "loaded_train_indices = torch.load(train_idx_path)\n",
    "# loaded_test_indices = torch.load(test_idx_path)\n",
    "\n",
    "# Create the subset using the loaded indices\n",
    "loaded_train_subset = torch.utils.data.Subset(train_dataset, loaded_train_indices)\n",
    "# loaded_test_subset = torch.utils.data.Subset(test_dataset, loaded_test_indices)"
   ]
  },
  {
   "cell_type": "code",
   "execution_count": 3,
   "metadata": {},
   "outputs": [],
   "source": [
    "import torch\n",
    "import copy\n",
    "import os\n",
    "from torch.utils.data import DataLoader\n",
    "from torchvision import datasets, transforms\n",
    "from bdl import CustomMNISTDataset\n",
    "\n",
    "# Example usage:\n",
    "selected_numbers = [1]\n",
    "# Include rotation in the transformation\n",
    "# transform = transforms.Compose([\n",
    "#     transforms.RandomRotation(degrees=(-180, 180), fill=(0,)),\n",
    "#     transforms.ToTensor(),\n",
    "#     transforms.Normalize((0.5,), (0.5,))\n",
    "# ])\n",
    "\n",
    "# rotation_angles = [0, 15, 30, 45, 60, 75, 80, 95]\n",
    "rotation_angles = []\n",
    "for i in range(12):\n",
    "    rotation_angles.append(i*5.5)\n",
    "def get_rotated_mnist_dataset(degrees):\n",
    "    rotate_transform = transforms.Compose([\n",
    "            transforms.RandomRotation(degrees=(degrees, degrees), fill=(0,)),\n",
    "            transforms.ToTensor(),\n",
    "            transforms.Normalize((0.5,), (0.5,))\n",
    "        ])\n",
    "    rotated_dataset = CustomMNISTDataset(root=mnist_directory, numbers=selected_numbers, train=False, transform=rotate_transform)\n",
    "    rotated_loader = DataLoader(rotated_dataset, batch_size=512, shuffle=False)\n",
    "    return rotated_dataset, rotated_loader\n",
    "rotated_datasets = []\n",
    "rotated_loaders = []\n",
    "\n",
    "for angle in rotation_angles:\n",
    "    rotated_dataset, rotated_loader = get_rotated_mnist_dataset(angle)\n",
    "    rotated_datasets.append(rotated_dataset)\n",
    "    rotated_loaders.append(rotated_loader)\n",
    "\n",
    "\n",
    "test_dataset = CustomMNISTDataset(root=mnist_directory, numbers=selected_numbers, train=False, transform=transform)\n",
    "test_loader = DataLoader(test_dataset, batch_size=512, shuffle=False)"
   ]
  },
  {
   "cell_type": "code",
   "execution_count": 4,
   "metadata": {},
   "outputs": [],
   "source": [
    "# Create data loaders\n",
    "batch_size = 512\n",
    "train_loader = DataLoader(loaded_train_subset, batch_size=batch_size, shuffle=True)\n",
    "# test_loader = DataLoader(loaded_test_subset, batch_size=512, shuffle=False)"
   ]
  },
  {
   "cell_type": "code",
   "execution_count": 5,
   "metadata": {},
   "outputs": [
    {
     "name": "stderr",
     "output_type": "stream",
     "text": [
      "100%|██████████| 1/1 [00:01<00:00,  1.27s/it]\n",
      "100%|██████████| 1/1 [00:00<00:00,  1.02it/s]\n"
     ]
    }
   ],
   "source": [
    "import torch\n",
    "import push.bayes.swag\n",
    "from torch.utils.data import DataLoader\n",
    "\n",
    "# ensemble = push.bayes.ensemble.train_deep_ensemble(\n",
    "#         train_loader,\n",
    "#         torch.nn.CrossEntropyLoss(),\n",
    "#         epochs,\n",
    "#         LeNet,\n",
    "#         num_devices=2,\n",
    "#         num_ensembles=100,\n",
    "#         cache_size=25\n",
    "#     )\n",
    "\n",
    "swag_epochs = 1\n",
    "pretrain_epochs = 1\n",
    "loss_fn = torch.nn.CrossEntropyLoss()\n",
    "\n",
    "mswag = push.bayes.swag.train_mswag(\n",
    "    train_loader,\n",
    "    loss_fn,\n",
    "    pretrain_epochs,\n",
    "    swag_epochs,\n",
    "    LeNet,\n",
    "    num_devices=2,\n",
    "    num_models = 2,\n",
    ")\n"
   ]
  },
  {
   "cell_type": "code",
   "execution_count": 6,
   "metadata": {},
   "outputs": [
    {
     "name": "stdout",
     "output_type": "stream",
     "text": [
      "len(stacked_preds[0]):  512\n",
      "len(stacked_preds[0]):  512\n",
      "len(stacked_preds[0]):  111\n"
     ]
    },
    {
     "ename": "TypeError",
     "evalue": "stack(): argument 'tensors' (position 1) must be tuple of Tensors, not Tensor",
     "output_type": "error",
     "traceback": [
      "\u001b[0;31m---------------------------------------------------------------------------\u001b[0m",
      "\u001b[0;31mTypeError\u001b[0m                                 Traceback (most recent call last)",
      "Cell \u001b[0;32mIn[6], line 3\u001b[0m\n\u001b[1;32m      1\u001b[0m outputs \u001b[38;5;241m=\u001b[39m []\n\u001b[1;32m      2\u001b[0m \u001b[38;5;28;01mfor\u001b[39;00m loader \u001b[38;5;129;01min\u001b[39;00m rotated_loaders:\n\u001b[0;32m----> 3\u001b[0m     outputs\u001b[38;5;241m.\u001b[39mappend(\u001b[43mmswag\u001b[49m\u001b[38;5;241;43m.\u001b[39;49m\u001b[43mposterior_pred\u001b[49m\u001b[43m(\u001b[49m\u001b[43mloader\u001b[49m\u001b[43m,\u001b[49m\u001b[43mf_reg\u001b[49m\u001b[38;5;241;43m=\u001b[39;49m\u001b[38;5;28;43;01mFalse\u001b[39;49;00m\u001b[43m,\u001b[49m\u001b[43m \u001b[49m\u001b[43mmode\u001b[49m\u001b[38;5;241;43m=\u001b[39;49m\u001b[43m[\u001b[49m\u001b[38;5;124;43m\"\u001b[39;49m\u001b[38;5;124;43mmode\u001b[39;49m\u001b[38;5;124;43m\"\u001b[39;49m\u001b[43m,\u001b[49m\u001b[38;5;124;43m\"\u001b[39;49m\u001b[38;5;124;43mlogits\u001b[39;49m\u001b[38;5;124;43m\"\u001b[39;49m\u001b[43m,\u001b[49m\u001b[38;5;124;43m\"\u001b[39;49m\u001b[38;5;124;43mprob\u001b[39;49m\u001b[38;5;124;43m\"\u001b[39;49m\u001b[43m]\u001b[49m\u001b[43m)\u001b[49m)\n",
      "File \u001b[0;32m~/push/push/bayes/swag.py:683\u001b[0m, in \u001b[0;36mMultiSWAG.posterior_pred\u001b[0;34m(self, data, loss_fn, num_samples, scale, var_clamp, mode, f_reg)\u001b[0m\n\u001b[1;32m    681\u001b[0m     \u001b[38;5;28;01mreturn\u001b[39;00m \u001b[38;5;28mself\u001b[39m\u001b[38;5;241m.\u001b[39mpush_dist\u001b[38;5;241m.\u001b[39mp_wait([fut])[fut\u001b[38;5;241m.\u001b[39m_fid]\n\u001b[1;32m    682\u001b[0m \u001b[38;5;28;01melif\u001b[39;00m \u001b[38;5;28misinstance\u001b[39m(data, DataLoader):\n\u001b[0;32m--> 683\u001b[0m     fut \u001b[38;5;241m=\u001b[39m \u001b[38;5;28;43mself\u001b[39;49m\u001b[38;5;241;43m.\u001b[39;49m\u001b[43mpush_dist\u001b[49m\u001b[38;5;241;43m.\u001b[39;49m\u001b[43mp_launch\u001b[49m\u001b[43m(\u001b[49m\u001b[38;5;241;43m0\u001b[39;49m\u001b[43m,\u001b[49m\u001b[43m \u001b[49m\u001b[38;5;124;43m\"\u001b[39;49m\u001b[38;5;124;43mLEADER_PRED_DL\u001b[39;49m\u001b[38;5;124;43m\"\u001b[39;49m\u001b[43m,\u001b[49m\u001b[43m \u001b[49m\u001b[43mdata\u001b[49m\u001b[43m,\u001b[49m\u001b[43m \u001b[49m\u001b[43mscale\u001b[49m\u001b[43m,\u001b[49m\u001b[43m \u001b[49m\u001b[43mvar_clamp\u001b[49m\u001b[43m,\u001b[49m\u001b[43m \u001b[49m\u001b[43mnum_samples\u001b[49m\u001b[43m,\u001b[49m\u001b[43m \u001b[49m\u001b[43mmode\u001b[49m\u001b[43m,\u001b[49m\u001b[43m \u001b[49m\u001b[38;5;28;43mlen\u001b[39;49m\u001b[43m(\u001b[49m\u001b[38;5;28;43mself\u001b[39;49m\u001b[38;5;241;43m.\u001b[39;49m\u001b[43mswag_pids\u001b[49m\u001b[43m)\u001b[49m\u001b[43m,\u001b[49m\u001b[43m \u001b[49m\u001b[43mf_reg\u001b[49m\u001b[43m)\u001b[49m\n\u001b[1;32m    684\u001b[0m     \u001b[38;5;28;01mreturn\u001b[39;00m \u001b[38;5;28mself\u001b[39m\u001b[38;5;241m.\u001b[39mpush_dist\u001b[38;5;241m.\u001b[39mp_wait([fut])[fut\u001b[38;5;241m.\u001b[39m_fid]\n\u001b[1;32m    685\u001b[0m \u001b[38;5;28;01melse\u001b[39;00m:\n",
      "File \u001b[0;32m~/push/push/push.py:274\u001b[0m, in \u001b[0;36mPusH.p_launch\u001b[0;34m(self, pid_to, msg, sync, *args)\u001b[0m\n\u001b[1;32m    272\u001b[0m \u001b[38;5;66;03m# Send message\u001b[39;00m\n\u001b[1;32m    273\u001b[0m rank \u001b[38;5;241m=\u001b[39m \u001b[38;5;28mself\u001b[39m\u001b[38;5;241m.\u001b[39m_particle_to_rank[pid_to]\n\u001b[0;32m--> 274\u001b[0m \u001b[38;5;28;43mself\u001b[39;49m\u001b[38;5;241;43m.\u001b[39;49m\u001b[43m_in_queues\u001b[49m\u001b[43m[\u001b[49m\u001b[43mrank\u001b[49m\u001b[43m]\u001b[49m\u001b[38;5;241;43m.\u001b[39;49m\u001b[43mput\u001b[49m\u001b[43m(\u001b[49m\u001b[43mReceiveFuncPDMSG\u001b[49m\u001b[43m(\u001b[49m\u001b[43m(\u001b[49m\u001b[43mpid_to\u001b[49m\u001b[43m,\u001b[49m\u001b[43m \u001b[49m\u001b[43mfid\u001b[49m\u001b[43m)\u001b[49m\u001b[43m,\u001b[49m\u001b[43m \u001b[49m\u001b[43mpid_to\u001b[49m\u001b[43m,\u001b[49m\u001b[43m \u001b[49m\u001b[43mmsg\u001b[49m\u001b[43m,\u001b[49m\u001b[43m \u001b[49m\u001b[43margs\u001b[49m\u001b[43m)\u001b[49m\u001b[43m)\u001b[49m\n\u001b[1;32m    276\u001b[0m \u001b[38;5;28;01mif\u001b[39;00m sync:\n\u001b[1;32m    277\u001b[0m     \u001b[38;5;66;03m# Synchronize\u001b[39;00m\n\u001b[1;32m    278\u001b[0m     y \u001b[38;5;241m=\u001b[39m \u001b[38;5;28mself\u001b[39m\u001b[38;5;241m.\u001b[39m_out_queues[rank]\u001b[38;5;241m.\u001b[39mget()\n",
      "File \u001b[0;32m~/push/push/pqueue.py:31\u001b[0m, in \u001b[0;36mSinglePQueue.put\u001b[0;34m(self, msg)\u001b[0m\n\u001b[1;32m     29\u001b[0m \u001b[38;5;28mself\u001b[39m\u001b[38;5;241m.\u001b[39m_queue \u001b[38;5;241m+\u001b[39m\u001b[38;5;241m=\u001b[39m [msg]\n\u001b[1;32m     30\u001b[0m \u001b[38;5;66;03m# NOTE: Since put in a multi-processing setting \"calls\" the function, we have to dispatch here.\u001b[39;00m\n\u001b[0;32m---> 31\u001b[0m \u001b[38;5;28;43mself\u001b[39;49m\u001b[38;5;241;43m.\u001b[39;49m\u001b[43m_nel\u001b[49m\u001b[38;5;241;43m.\u001b[39;49m\u001b[43m_dispatch\u001b[49m\u001b[43m(\u001b[49m\u001b[43mmsg\u001b[49m\u001b[43m)\u001b[49m\n",
      "File \u001b[0;32m~/push/push/lib/node_event_loop.py:283\u001b[0m, in \u001b[0;36mNodeEventLoop._dispatch\u001b[0;34m(self, msg)\u001b[0m\n\u001b[1;32m    281\u001b[0m     \u001b[38;5;28mself\u001b[39m\u001b[38;5;241m.\u001b[39mout_queue\u001b[38;5;241m.\u001b[39mput(e)\n\u001b[1;32m    282\u001b[0m     \u001b[38;5;28mself\u001b[39m\u001b[38;5;241m.\u001b[39m_cleanup()\n\u001b[0;32m--> 283\u001b[0m     \u001b[38;5;28;01mraise\u001b[39;00m e\n\u001b[1;32m    285\u001b[0m \u001b[38;5;66;03m# Acknowledge\u001b[39;00m\n\u001b[1;32m    286\u001b[0m \u001b[38;5;28mself\u001b[39m\u001b[38;5;241m.\u001b[39mout_queue\u001b[38;5;241m.\u001b[39mput(ReceiveFuncAckPDMSG(sender, y))\n",
      "File \u001b[0;32m~/push/push/lib/node_event_loop.py:279\u001b[0m, in \u001b[0;36mNodeEventLoop._dispatch\u001b[0;34m(self, msg)\u001b[0m\n\u001b[1;32m    277\u001b[0m particle \u001b[38;5;241m=\u001b[39m Particle(\u001b[38;5;28mself\u001b[39m, pid_device, pid, module, state)\n\u001b[1;32m    278\u001b[0m \u001b[38;5;28;01mtry\u001b[39;00m:\n\u001b[0;32m--> 279\u001b[0m     y \u001b[38;5;241m=\u001b[39m \u001b[43mfn\u001b[49m\u001b[43m(\u001b[49m\u001b[43mparticle\u001b[49m\u001b[43m,\u001b[49m\u001b[43m \u001b[49m\u001b[38;5;241;43m*\u001b[39;49m\u001b[43mmsg\u001b[49m\u001b[38;5;241;43m.\u001b[39;49m\u001b[43margs\u001b[49m\u001b[43m)\u001b[49m\n\u001b[1;32m    280\u001b[0m \u001b[38;5;28;01mexcept\u001b[39;00m \u001b[38;5;167;01mException\u001b[39;00m \u001b[38;5;28;01mas\u001b[39;00m e:\n\u001b[1;32m    281\u001b[0m     \u001b[38;5;28mself\u001b[39m\u001b[38;5;241m.\u001b[39mout_queue\u001b[38;5;241m.\u001b[39mput(e)\n",
      "File \u001b[0;32m~/push/push/bayes/swag.py:169\u001b[0m, in \u001b[0;36m_leader_pred_dl\u001b[0;34m(particle, dataloader, scale, var_clamp, num_samples, mode, num_models, f_reg)\u001b[0m\n\u001b[1;32m    165\u001b[0m results_dict \u001b[38;5;241m=\u001b[39m {}\n\u001b[1;32m    166\u001b[0m \u001b[38;5;66;03m# print(\"acc[0][logits]: \", acc[0][\"logits\"])\u001b[39;00m\n\u001b[1;32m    167\u001b[0m \u001b[38;5;66;03m# Stack tensors from each list\u001b[39;00m\n\u001b[0;32m--> 169\u001b[0m stacked_logits \u001b[38;5;241m=\u001b[39m [torch\u001b[38;5;241m.\u001b[39mstack(item, dim\u001b[38;5;241m=\u001b[39m\u001b[38;5;241m-\u001b[39m\u001b[38;5;241m2\u001b[39m) \u001b[38;5;28;01mfor\u001b[39;00m item \u001b[38;5;129;01min\u001b[39;00m acc[\u001b[38;5;241m0\u001b[39m][\u001b[38;5;124m\"\u001b[39m\u001b[38;5;124mlogits\u001b[39m\u001b[38;5;124m\"\u001b[39m]]\n\u001b[1;32m    171\u001b[0m \u001b[38;5;66;03m# Display the result\u001b[39;00m\n\u001b[1;32m    172\u001b[0m \u001b[38;5;66;03m# print(\"len: \", len(acc[0][\"logits\"]))\u001b[39;00m\n\u001b[1;32m    173\u001b[0m \u001b[38;5;66;03m# print(\"stacekd logits: \",stacked_logits)\u001b[39;00m\n\u001b[1;32m    174\u001b[0m \u001b[38;5;66;03m# print(\"acc: \", acc)\u001b[39;00m\n\u001b[1;32m    175\u001b[0m \u001b[38;5;66;03m# for mode_val in mode:\u001b[39;00m\n\u001b[1;32m    176\u001b[0m     \u001b[38;5;66;03m# results_dict[mode_val] = torch.cat([result[mode_val] for result in acc], dim=0)\u001b[39;00m\n\u001b[1;32m    177\u001b[0m \u001b[38;5;28;01mreturn\u001b[39;00m results_dict\n",
      "File \u001b[0;32m~/push/push/bayes/swag.py:169\u001b[0m, in \u001b[0;36m<listcomp>\u001b[0;34m(.0)\u001b[0m\n\u001b[1;32m    165\u001b[0m results_dict \u001b[38;5;241m=\u001b[39m {}\n\u001b[1;32m    166\u001b[0m \u001b[38;5;66;03m# print(\"acc[0][logits]: \", acc[0][\"logits\"])\u001b[39;00m\n\u001b[1;32m    167\u001b[0m \u001b[38;5;66;03m# Stack tensors from each list\u001b[39;00m\n\u001b[0;32m--> 169\u001b[0m stacked_logits \u001b[38;5;241m=\u001b[39m [\u001b[43mtorch\u001b[49m\u001b[38;5;241;43m.\u001b[39;49m\u001b[43mstack\u001b[49m\u001b[43m(\u001b[49m\u001b[43mitem\u001b[49m\u001b[43m,\u001b[49m\u001b[43m \u001b[49m\u001b[43mdim\u001b[49m\u001b[38;5;241;43m=\u001b[39;49m\u001b[38;5;241;43m-\u001b[39;49m\u001b[38;5;241;43m2\u001b[39;49m\u001b[43m)\u001b[49m \u001b[38;5;28;01mfor\u001b[39;00m item \u001b[38;5;129;01min\u001b[39;00m acc[\u001b[38;5;241m0\u001b[39m][\u001b[38;5;124m\"\u001b[39m\u001b[38;5;124mlogits\u001b[39m\u001b[38;5;124m\"\u001b[39m]]\n\u001b[1;32m    171\u001b[0m \u001b[38;5;66;03m# Display the result\u001b[39;00m\n\u001b[1;32m    172\u001b[0m \u001b[38;5;66;03m# print(\"len: \", len(acc[0][\"logits\"]))\u001b[39;00m\n\u001b[1;32m    173\u001b[0m \u001b[38;5;66;03m# print(\"stacekd logits: \",stacked_logits)\u001b[39;00m\n\u001b[1;32m    174\u001b[0m \u001b[38;5;66;03m# print(\"acc: \", acc)\u001b[39;00m\n\u001b[1;32m    175\u001b[0m \u001b[38;5;66;03m# for mode_val in mode:\u001b[39;00m\n\u001b[1;32m    176\u001b[0m     \u001b[38;5;66;03m# results_dict[mode_val] = torch.cat([result[mode_val] for result in acc], dim=0)\u001b[39;00m\n\u001b[1;32m    177\u001b[0m \u001b[38;5;28;01mreturn\u001b[39;00m results_dict\n",
      "\u001b[0;31mTypeError\u001b[0m: stack(): argument 'tensors' (position 1) must be tuple of Tensors, not Tensor"
     ]
    }
   ],
   "source": [
    "outputs = []\n",
    "for loader in rotated_loaders:\n",
    "    outputs.append(mswag.posterior_pred(loader,f_reg=False, mode=[\"mode\",\"logits\",\"prob\"]))"
   ]
  },
  {
   "cell_type": "code",
   "execution_count": null,
   "metadata": {},
   "outputs": [],
   "source": [
    "def get_mode(output, mode):\n",
    "    return output[mode]\n",
    "    \n",
    "# get_mode(two_model_outputs0, \"logits\")[:,:,(1,3,7)][0][:,(0)]"
   ]
  },
  {
   "cell_type": "code",
   "execution_count": null,
   "metadata": {},
   "outputs": [
    {
     "ename": "KeyError",
     "evalue": "'logits'",
     "output_type": "error",
     "traceback": [
      "\u001b[0;31m---------------------------------------------------------------------------\u001b[0m",
      "\u001b[0;31mKeyError\u001b[0m                                  Traceback (most recent call last)",
      "Cell \u001b[0;32mIn[8], line 1\u001b[0m\n\u001b[0;32m----> 1\u001b[0m \u001b[38;5;28mlen\u001b[39m(\u001b[43mget_mode\u001b[49m\u001b[43m(\u001b[49m\u001b[43moutputs\u001b[49m\u001b[43m[\u001b[49m\u001b[38;5;241;43m0\u001b[39;49m\u001b[43m]\u001b[49m\u001b[43m,\u001b[49m\u001b[43m \u001b[49m\u001b[38;5;124;43m\"\u001b[39;49m\u001b[38;5;124;43mlogits\u001b[39;49m\u001b[38;5;124;43m\"\u001b[39;49m\u001b[43m)\u001b[49m)\n",
      "Cell \u001b[0;32mIn[7], line 2\u001b[0m, in \u001b[0;36mget_mode\u001b[0;34m(output, mode)\u001b[0m\n\u001b[1;32m      1\u001b[0m \u001b[38;5;28;01mdef\u001b[39;00m \u001b[38;5;21mget_mode\u001b[39m(output, mode):\n\u001b[0;32m----> 2\u001b[0m     \u001b[38;5;28;01mreturn\u001b[39;00m \u001b[43moutput\u001b[49m\u001b[43m[\u001b[49m\u001b[43mmode\u001b[49m\u001b[43m]\u001b[49m\n",
      "\u001b[0;31mKeyError\u001b[0m: 'logits'"
     ]
    }
   ],
   "source": [
    "len(get_mode(outputs[0], \"logits\"))"
   ]
  },
  {
   "cell_type": "code",
   "execution_count": null,
   "metadata": {},
   "outputs": [],
   "source": [
    "# Display rotated images\n",
    "# num_images_to_display = \n",
    "idx_image_to_display = 4\n",
    "imgs = []\n",
    "lbls = []\n",
    "for dataset in rotated_datasets:\n",
    "    rotated_loader_small = DataLoader(dataset, batch_size=512, shuffle=False)\n",
    "    for images, labels in rotated_loader_small:\n",
    "        imgs.append(images[idx_image_to_display])\n",
    "        lbls.append(labels[idx_image_to_display])\n",
    "        break"
   ]
  },
  {
   "cell_type": "code",
   "execution_count": null,
   "metadata": {},
   "outputs": [],
   "source": [
    "from matplotlib.offsetbox import OffsetImage, AnnotationBbox\n",
    "\n",
    "\n",
    "def offset_image(coord, i, ax, low_img, low_index, zoom):\n",
    "    '''from mnist_classification_mc_dropout.ipynb [1]'''\n",
    "    img = imgs[i]\n",
    "    im = OffsetImage(img.squeeze(), zoom=zoom)\n",
    "    im.image.axes = ax\n",
    "\n",
    "    ab = AnnotationBbox(\n",
    "        im,\n",
    "        (coord, low_img),\n",
    "        xybox=(0.0, low_index),\n",
    "        frameon=False,\n",
    "        boxcoords=\"offset points\",\n",
    "    )\n",
    "    ax.add_artist(ab)"
   ]
  },
  {
   "cell_type": "code",
   "execution_count": null,
   "metadata": {},
   "outputs": [
    {
     "name": "stderr",
     "output_type": "stream",
     "text": [
      "An NVIDIA GPU may be present on this machine, but a CUDA-enabled jaxlib is not installed. Falling back to cpu.\n"
     ]
    },
    {
     "ename": "TypeError",
     "evalue": "list indices must be integers or slices, not tuple",
     "output_type": "error",
     "traceback": [
      "\u001b[0;31m---------------------------------------------------------------------------\u001b[0m",
      "\u001b[0;31mTypeError\u001b[0m                                 Traceback (most recent call last)",
      "Cell \u001b[0;32mIn[11], line 11\u001b[0m\n\u001b[1;32m      8\u001b[0m \u001b[38;5;28;01mfor\u001b[39;00m i, output \u001b[38;5;129;01min\u001b[39;00m \u001b[38;5;28menumerate\u001b[39m(outputs):\n\u001b[1;32m      9\u001b[0m \u001b[38;5;250m    \u001b[39m\u001b[38;5;124;03m'''plot generated from mnist_classification_mc_dropout.ipynb [1]'''\u001b[39;00m\n\u001b[1;32m     10\u001b[0m     ax\u001b[38;5;241m.\u001b[39meventplot(\n\u001b[0;32m---> 11\u001b[0m         \u001b[43mget_mode\u001b[49m\u001b[43m(\u001b[49m\u001b[43moutput\u001b[49m\u001b[43m,\u001b[49m\u001b[43m \u001b[49m\u001b[38;5;124;43m\"\u001b[39;49m\u001b[38;5;124;43mlogits\u001b[39;49m\u001b[38;5;124;43m\"\u001b[39;49m\u001b[43m)\u001b[49m\u001b[43m[\u001b[49m\u001b[43m:\u001b[49m\u001b[43m,\u001b[49m\u001b[43m:\u001b[49m\u001b[43m,\u001b[49m\u001b[43m(\u001b[49m\u001b[38;5;241;43m1\u001b[39;49m\u001b[43m,\u001b[49m\u001b[38;5;241;43m3\u001b[39;49m\u001b[43m,\u001b[49m\u001b[38;5;241;43m7\u001b[39;49m\u001b[43m)\u001b[49m\u001b[43m]\u001b[49m[idx_image_to_display][:,(\u001b[38;5;241m0\u001b[39m)],\n\u001b[1;32m     12\u001b[0m         orientation\u001b[38;5;241m=\u001b[39m\u001b[38;5;124m\"\u001b[39m\u001b[38;5;124mvertical\u001b[39m\u001b[38;5;124m\"\u001b[39m,\n\u001b[1;32m     13\u001b[0m         lineoffsets\u001b[38;5;241m=\u001b[39mi,\n\u001b[1;32m     14\u001b[0m         linelengths\u001b[38;5;241m=\u001b[39m\u001b[38;5;241m0.8\u001b[39m,\n\u001b[1;32m     15\u001b[0m         colors\u001b[38;5;241m=\u001b[39m\u001b[38;5;124m\"\u001b[39m\u001b[38;5;124mgreen\u001b[39m\u001b[38;5;124m\"\u001b[39m,\n\u001b[1;32m     16\u001b[0m         alpha\u001b[38;5;241m=\u001b[39m\u001b[38;5;241m0.75\u001b[39m,\n\u001b[1;32m     17\u001b[0m     )\n\u001b[1;32m     18\u001b[0m     ax\u001b[38;5;241m.\u001b[39meventplot(\n\u001b[1;32m     19\u001b[0m         get_mode(output, \u001b[38;5;124m\"\u001b[39m\u001b[38;5;124mlogits\u001b[39m\u001b[38;5;124m\"\u001b[39m)[:,:,(\u001b[38;5;241m1\u001b[39m,\u001b[38;5;241m3\u001b[39m,\u001b[38;5;241m7\u001b[39m)][idx_image_to_display][:,(\u001b[38;5;241m1\u001b[39m)],\n\u001b[1;32m     20\u001b[0m         orientation\u001b[38;5;241m=\u001b[39m\u001b[38;5;124m\"\u001b[39m\u001b[38;5;124mvertical\u001b[39m\u001b[38;5;124m\"\u001b[39m,\n\u001b[0;32m   (...)\u001b[0m\n\u001b[1;32m     24\u001b[0m         alpha\u001b[38;5;241m=\u001b[39m\u001b[38;5;241m0.75\u001b[39m,\n\u001b[1;32m     25\u001b[0m     )\n\u001b[1;32m     26\u001b[0m     ax\u001b[38;5;241m.\u001b[39meventplot(\n\u001b[1;32m     27\u001b[0m         get_mode(output, \u001b[38;5;124m\"\u001b[39m\u001b[38;5;124mlogits\u001b[39m\u001b[38;5;124m\"\u001b[39m)[:,:,(\u001b[38;5;241m1\u001b[39m,\u001b[38;5;241m3\u001b[39m,\u001b[38;5;241m7\u001b[39m)][idx_image_to_display][:,(\u001b[38;5;241m2\u001b[39m)],\n\u001b[1;32m     28\u001b[0m         orientation\u001b[38;5;241m=\u001b[39m\u001b[38;5;124m\"\u001b[39m\u001b[38;5;124mvertical\u001b[39m\u001b[38;5;124m\"\u001b[39m,\n\u001b[0;32m   (...)\u001b[0m\n\u001b[1;32m     32\u001b[0m         alpha\u001b[38;5;241m=\u001b[39m\u001b[38;5;241m0.6\u001b[39m,\n\u001b[1;32m     33\u001b[0m     )\n",
      "\u001b[0;31mTypeError\u001b[0m: list indices must be integers or slices, not tuple"
     ]
    },
    {
     "data": {
      "image/png": "[encoded data removed]",
      "text/plain": [
       "<Figure size 640x480 with 1 Axes>"
      ]
     },
     "metadata": {},
     "output_type": "display_data"
    }
   ],
   "source": [
    "\n",
    "fig, ax = plt.subplots(1)\n",
    "zoom = 0.4\n",
    "# else:\n",
    "#     plt.rcParams[\"font.size\"] = 16\n",
    "#     fig, ax = plt.subplots(1, figsize=(12, 6))\n",
    "#     zoom = 1\n",
    "index = jnp.arange(len(outputs))\n",
    "for i, output in enumerate(outputs):\n",
    "    '''plot generated from mnist_classification_mc_dropout.ipynb [1]'''\n",
    "    ax.eventplot(\n",
    "        get_mode(output, \"logits\")[:,:,(1,3,7)][idx_image_to_display][:,(0)],\n",
    "        orientation=\"vertical\",\n",
    "        lineoffsets=i,\n",
    "        linelengths=0.8,\n",
    "        colors=\"green\",\n",
    "        alpha=0.75,\n",
    "    )\n",
    "    ax.eventplot(\n",
    "        get_mode(output, \"logits\")[:,:,(1,3,7)][idx_image_to_display][:,(1)],\n",
    "        orientation=\"vertical\",\n",
    "        lineoffsets=i,\n",
    "        linelengths=0.8,\n",
    "        colors=\"orange\",\n",
    "        alpha=0.75,\n",
    "    )\n",
    "    ax.eventplot(\n",
    "        get_mode(output, \"logits\")[:,:,(1,3,7)][idx_image_to_display][:,(2)],\n",
    "        orientation=\"vertical\",\n",
    "        lineoffsets=i,\n",
    "        linelengths=0.8,\n",
    "        colors=\"blue\",\n",
    "        alpha=0.6,\n",
    "    )\n",
    "\n",
    "ax.set_xticks(index)\n",
    "ax.set_xticklabels(index + 1)\n",
    "ax.tick_params(axis=\"x\", which=\"major\", pad=8)\n",
    "ax.set_ylabel(\"Logits\")\n",
    "l, h = ax.get_ylim()\n",
    "for i in index:\n",
    "    offset_image(i, i, ax, l, l - 5, zoom)\n",
    "ax.legend([\"1\", \"5\", \"7\"], bbox_to_anchor=(0.6, 1.0))\n",
    "# sns.despine()\n",
    "# savefig(\"mnist_softmax_input\", tight_bbox=True, pad=1)\n",
    "plt.show()"
   ]
  },
  {
   "cell_type": "code",
   "execution_count": null,
   "metadata": {},
   "outputs": [
    {
     "data": {
      "image/png": "[encoded data removed]",
      "text/plain": [
       "<Figure size 640x480 with 1 Axes>"
      ]
     },
     "metadata": {},
     "output_type": "display_data"
    }
   ],
   "source": [
    "fig, ax = plt.subplots(1)\n",
    "zoom = 0.4\n",
    "# else:\n",
    "#     plt.rcParams[\"font.size\"] = 16\n",
    "#     fig, ax = plt.subplots(1, figsize=(12, 6))\n",
    "#     zoom = 1\n",
    "index = jnp.arange(len(outputs))\n",
    "for i, output in enumerate(outputs):\n",
    "    '''plot generated from mnist_classification_mc_dropout.ipynb [1]'''\n",
    "    ax.eventplot(\n",
    "        get_mode(output, \"prob\")[:,:,(1,3,7)][idx_image_to_display][:,(0)],\n",
    "        orientation=\"vertical\",\n",
    "        lineoffsets=i,\n",
    "        linelengths=0.8,\n",
    "        colors=\"green\",\n",
    "        alpha=0.75,\n",
    "    )\n",
    "    ax.eventplot(\n",
    "        get_mode(output, \"prob\")[:,:,(1,3,7)][idx_image_to_display][:,(1)],\n",
    "        orientation=\"vertical\",\n",
    "        lineoffsets=i,\n",
    "        linelengths=0.8,\n",
    "        colors=\"orange\",\n",
    "        alpha=0.75,\n",
    "    )\n",
    "    ax.eventplot(\n",
    "        get_mode(output, \"prob\")[:,:,(1,3,7)][idx_image_to_display][:,(2)],\n",
    "        orientation=\"vertical\",\n",
    "        lineoffsets=i,\n",
    "        linelengths=0.8,\n",
    "        colors=\"blue\",\n",
    "        alpha=0.6,\n",
    "    )\n",
    "\n",
    "ax.set_xticks(index)\n",
    "ax.set_xticklabels(index + 1)\n",
    "ax.tick_params(axis=\"x\", which=\"major\", pad=8)\n",
    "ax.set_ylabel(\"Probabilities\")\n",
    "l, h = ax.get_ylim()\n",
    "for i in index:\n",
    "    offset_image(i, i, ax, l, l - 5, zoom)\n",
    "ax.legend([\"1\", \"5\", \"7\"], bbox_to_anchor=(0.6, 1.0))\n",
    "# sns.despine()\n",
    "# savefig(\"mnist_softmax_input\", tight_bbox=True, pad=1)\n",
    "plt.show()"
   ]
  },
  {
   "cell_type": "markdown",
   "metadata": {},
   "source": [
    "[1] Kevin Murphy. Probabilistic Machine Learning Advanced Topics. Chapter 17. The MIT Press: Adaptive computation and machine learning series (2023). Cambridge, Massachusetts."
   ]
  },
  {
   "cell_type": "markdown",
   "metadata": {},
   "source": []
  }
 ],
 "metadata": {
  "kernelspec": {
   "display_name": "push_exp",
   "language": "python",
   "name": "python3"
  },
  "language_info": {
   "codemirror_mode": {
    "name": "ipython",
    "version": 3
   },
   "file_extension": ".py",
   "mimetype": "text/x-python",
   "name": "python",
   "nbconvert_exporter": "python",
   "pygments_lexer": "ipython3",
   "version": "3.10.12"
  }
 },
 "nbformat": 4,
 "nbformat_minor": 2
}
