{
 "cells": [
  {
   "cell_type": "code",
   "execution_count": null,
   "metadata": {},
   "outputs": [],
   "source": [
    "import matplotlib.pyplot as plt\n",
    "import numpy as np\n",
    "\n",
    "# Assuming you have some data X, Y, x_grid, outputs, num_ensembles defined\n",
    "\n",
    "\n",
    "def plot_toy(outputs):\n",
    "    fig, axs = plt.subplots(nrows=1, ncols=2, figsize=[12, 6])\n",
    "\n",
    "    # Plot predictive mean and std (left graph)\n",
    "    axs[0].plot(X, Y, \"kx\", label=\"Toy data\", markersize=1)\n",
    "    axs[0].set_xlim(-0.5, 1)\n",
    "    axs[0].set_ylim(-2, 2)\n",
    "    axs[0].plot(x_grid, outputs[\"mean\"], \"r--\", linewidth=1)\n",
    "    axs[0].fill_between(x_grid.reshape(1, -1)[0], (outputs[\"mean\"] - outputs[\"std\"]).squeeze(), (outputs[\"mean\"] + outputs[\"std\"]).squeeze(), alpha=0.5, color=\"red\")\n",
    "    axs[0].fill_between(\n",
    "        x_grid.reshape(1, -1)[0], (outputs[\"mean\"] + 2 * outputs[\"std\"]).squeeze(), (outputs[\"mean\"] - 2 * outputs[\"std\"]).squeeze(), alpha=0.2, color=\"red\"\n",
    "    )\n",
    "    axs[0].set_title(\"Predictive Mean and Std\")\n",
    "\n",
    "    # Plot means of each net in ensemble (right graph)\n",
    "    axs[1].plot(X, Y, \"kx\", label=\"Toy data\", markersize=1)\n",
    "    axs[1].set_xlim(-0.5, 1)\n",
    "    axs[1].set_ylim(-1.5, 2)\n",
    "    axs[1].set_title(\"Individual Swag Model output\")\n",
    "\n",
    "    for j in range(num_models):\n",
    "        axs[1].plot(x_grid, torch.tensor([sublist[j] for sublist in outputs[\"pred\"]]), linestyle=\"--\", linewidth=1)\n",
    "\n",
    "    plt.tight_layout()\n",
    "    plt.show()\n"
   ]
  }
 ],
 "metadata": {
  "language_info": {
   "name": "python"
  }
 },
 "nbformat": 4,
 "nbformat_minor": 2
}
