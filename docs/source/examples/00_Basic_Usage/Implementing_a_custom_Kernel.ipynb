{
 "cells": [
  {
   "cell_type": "markdown",
   "metadata": {},
   "source": [
    "## Implementing a custom kernel in GPyTorch\n",
    "\n",
    "In this notebook we are looking at how to implement a custom kernel in GPyTorch. As an example, we consider the [sinc](https://en.wikipedia.org/wiki/Sinc_function) kernel."
   ]
  }
 ],
 "metadata": {
  "kernelspec": {
   "display_name": "Python 3",
   "language": "python",
   "name": "python3"
  },
  "language_info": {
   "codemirror_mode": {
    "name": "ipython",
    "version": 3
   },
   "file_extension": ".py",
   "mimetype": "text/x-python",
   "name": "python",
   "nbconvert_exporter": "python",
   "pygments_lexer": "ipython3",
   "version": "3.8.6"
  }
 },
 "nbformat": 4,
 "nbformat_minor": 4
}
