{
 "cells": [
  {
   "cell_type": "markdown",
   "metadata": {},
   "source": [
    "# Push SWAG/Multi-SWAG"
   ]
  },
  {
   "cell_type": "markdown",
   "metadata": {},
   "source": [
    "Stochastic weight averaging gaussian (SWAG), introduced here in [this paper](https://arxiv.org/pdf/1902.02476.pdf) produces a distribution over the weights of a neural network. Multiple SWAG initializations can be run independently, and their predictions can be averaged together in a manner similar to Deep Ensembles to produce a new method called [Multi-SWAG](https://arxiv.org/pdf/2002.08791.pdf)."
   ]
  },
  {
   "cell_type": "markdown",
   "metadata": {},
   "source": [
    "### Dataset\n",
    "\n",
    "We setup the dataset with $N$ points of dimension $D$ in the next cell."
   ]
  },
  {
   "cell_type": "code",
   "execution_count": 2,
   "metadata": {},
   "outputs": [
    {
     "data": {
      "text/plain": [
       "<bdl.RandDataset at 0x7efd585a3670>"
      ]
     },
     "execution_count": 2,
     "metadata": {},
     "output_type": "execute_result"
    }
   ],
   "source": [
    "from bdl import RandDataset\n",
    "\n",
    "D = 1\n",
    "batch_size = 128\n",
    "N = 1\n",
    "dataset = RandDataset(batch_size, N, D)\n",
    "dataset"
   ]
  },
  {
   "cell_type": "markdown",
   "metadata": {},
   "source": [
    "```py\n",
    "class RandDataset(Dataset):\n",
    "    def __init__(self, batch_size, N, D):\n",
    "        self.xs = torch.randn(batch_size*N, D)\n",
    "        self.ys = torch.randn(batch_size*N, 1)\n",
    "\n",
    "    def __len__(self):\n",
    "        return len(self.xs)\n",
    "\n",
    "    def __getitem__(self, idx):\n",
    "        return self.xs[idx], self.ys[idx]\n",
    "```"
   ]
  },
  {
   "cell_type": "markdown",
   "metadata": {},
   "source": [
    "## Plotting the Dataset "
   ]
  },
  {
   "cell_type": "code",
   "execution_count": 5,
   "metadata": {},
   "outputs": [
    {
     "data": {
      "image/png": "[encoded data removed]",
      "text/plain": [
       "<Figure size 800x600 with 1 Axes>"
      ]
     },
     "metadata": {},
     "output_type": "display_data"
    }
   ],
   "source": [
    "import matplotlib.pyplot as plt\n",
    "\n",
    "\n",
    "# Extract the data\n",
    "xs = dataset.xs\n",
    "ys = dataset.ys\n",
    "\n",
    "# Plot the data without a colorbar\n",
    "plt.figure(figsize=(8, 6))\n",
    "plt.scatter(xs, ys)\n",
    "plt.title('Scatter Plot of RandDataset')\n",
    "plt.xlabel('X')\n",
    "plt.ylabel('Target (Y)')\n",
    "plt.show()\n"
   ]
  },
  {
   "cell_type": "markdown",
   "metadata": {},
   "source": [
    "### Neural Network\n",
    "\n",
    "We create a simple neural network (NN). This NN contains two fully-connected layers of dimension $D$ and uses a ReLU activation function. "
   ]
  },
  {
   "cell_type": "code",
   "execution_count": 2,
   "metadata": {},
   "outputs": [],
   "source": [
    "from bdl import MiniNN"
   ]
  },
  {
   "cell_type": "markdown",
   "metadata": {},
   "source": [
    "```py\n",
    "class MiniNN(nn.Module):\n",
    "    def __init__(self, D):\n",
    "        super(MiniNN, self).__init__()\n",
    "        self.fc1 = nn.Linear(D, D)\n",
    "        self.fc2 = nn.Linear(D, D)\n",
    "\n",
    "    def forward(self, x):\n",
    "        x = self.fc1(x)\n",
    "        x = torch.nn.ReLU()(x)\n",
    "        x = self.fc2(x)\n",
    "        return x\n",
    "```"
   ]
  },
  {
   "cell_type": "markdown",
   "metadata": {},
   "source": [
    "# Particles\n",
    "The number of particles determines the number of independent SWAG runs we will ensemble. Choosing particle number of 1 will result in a normal SWAG run, while any number of particles greater than 1 will result in a Multi-SWAG run. "
   ]
  },
  {
   "cell_type": "markdown",
   "metadata": {},
   "source": [
    "# Running SWAG with Push"
   ]
  },
  {
   "cell_type": "code",
   "execution_count": 3,
   "metadata": {},
   "outputs": [
    {
     "name": "stderr",
     "output_type": "stream",
     "text": [
      "  0%|          | 0/10 [00:00<?, ?it/s]"
     ]
    },
    {
     "name": "stdout",
     "output_type": "stream",
     "text": [
      "Average epoch loss tensor(0.8861)\n",
      "Average epoch loss tensor(0.8861)\n",
      "Average epoch loss tensor(0.8861)\n",
      "Average epoch loss tensor(0.8861)\n",
      "Average epoch loss tensor(0.8861)\n"
     ]
    },
    {
     "name": "stderr",
     "output_type": "stream",
     "text": [
      " 40%|████      | 4/10 [00:00<00:00,  8.25it/s]"
     ]
    },
    {
     "name": "stdout",
     "output_type": "stream",
     "text": [
      "Average epoch loss tensor(0.8861)\n",
      "Average epoch loss tensor(0.8861)\n",
      "Average epoch loss tensor(0.8861)\n",
      "Average epoch loss tensor(0.8861)\n",
      "Average epoch loss tensor(0.8861)\n"
     ]
    },
    {
     "name": "stderr",
     "output_type": "stream",
     "text": [
      "100%|██████████| 10/10 [00:00<00:00, 11.40it/s]\n",
      "  0%|          | 0/10 [00:00<?, ?it/s]"
     ]
    },
    {
     "name": "stdout",
     "output_type": "stream",
     "text": [
      "Average epoch loss tensor(0.8861)\n",
      "Average epoch loss tensor(0.8861)\n",
      "Average epoch loss tensor(0.8861)\n",
      "Average epoch loss tensor(0.8861)\n"
     ]
    },
    {
     "name": "stderr",
     "output_type": "stream",
     "text": [
      " 40%|████      | 4/10 [00:00<00:00, 16.00it/s]"
     ]
    },
    {
     "name": "stdout",
     "output_type": "stream",
     "text": [
      "Average epoch loss tensor(0.8860)\n",
      "Average epoch loss tensor(0.8860)\n",
      "Average epoch loss tensor(0.8860)\n",
      "Average epoch loss tensor(0.8860)\n"
     ]
    },
    {
     "name": "stderr",
     "output_type": "stream",
     "text": [
      " 80%|████████  | 8/10 [00:00<00:00, 16.00it/s]"
     ]
    },
    {
     "name": "stdout",
     "output_type": "stream",
     "text": [
      "Average epoch loss tensor(0.8860)\n",
      "Average epoch loss tensor(0.8860)\n"
     ]
    },
    {
     "name": "stderr",
     "output_type": "stream",
     "text": [
      "100%|██████████| 10/10 [00:00<00:00, 15.93it/s]\n"
     ]
    },
    {
     "data": {
      "text/plain": [
       "<push.bayes.swag.MultiSWAG at 0x7fc3e83ef550>"
      ]
     },
     "execution_count": 3,
     "metadata": {},
     "output_type": "execute_result"
    }
   ],
   "source": [
    "import torch\n",
    "from torch.utils.data import DataLoader\n",
    "import push.bayes.swag\n",
    "\n",
    "dataloader = DataLoader(dataset, batch_size=batch_size, shuffle=True)\n",
    "pretrain_epochs = 10\n",
    "swag_epochs = 10\n",
    "particles = 10\n",
    "cache_size = 3\n",
    "view_size = 2\n",
    "\n",
    "push.bayes.swag.train_mswag(\n",
    "            dataloader,\n",
    "            torch.nn.MSELoss(),\n",
    "            pretrain_epochs,\n",
    "            swag_epochs,\n",
    "            particles,\n",
    "            cache_size,\n",
    "            view_size, \n",
    "            MiniNN, D\n",
    "        )"
   ]
  },
  {
   "cell_type": "markdown",
   "metadata": {},
   "source": []
  }
 ],
 "metadata": {
  "kernelspec": {
   "display_name": "push_exp",
   "language": "python",
   "name": "python3"
  },
  "language_info": {
   "codemirror_mode": {
    "name": "ipython",
    "version": 3
   },
   "file_extension": ".py",
   "mimetype": "text/x-python",
   "name": "python",
   "nbconvert_exporter": "python",
   "pygments_lexer": "ipython3",
   "version": "3.10.12"
  }
 },
 "nbformat": 4,
 "nbformat_minor": 2
}
