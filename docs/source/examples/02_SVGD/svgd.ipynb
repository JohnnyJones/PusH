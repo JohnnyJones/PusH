{
 "cells": [
  {
   "cell_type": "markdown",
   "metadata": {},
   "source": [
    "# Push SVGD"
   ]
  },
  {
   "cell_type": "markdown",
   "metadata": {},
   "source": [
    "Steing variatianal gradient descent (SVGD), introduced here in [this paper](https://arxiv.org/abs/1608.04471) seeks to approximate a target distribution by moving particles to fit the target distribution."
   ]
  },
  {
   "cell_type": "markdown",
   "metadata": {},
   "source": [
    "### Dataset\n",
    "\n",
    "We setup the dataset with $N$ points of dimension $D$ in the next cell."
   ]
  },
  {
   "cell_type": "code",
   "execution_count": 1,
   "metadata": {},
   "outputs": [
    {
     "data": {
      "text/plain": [
       "<bdl.RandDataset at 0x7fdf2856b9a0>"
      ]
     },
     "execution_count": 1,
     "metadata": {},
     "output_type": "execute_result"
    }
   ],
   "source": [
    "from bdl import RandDataset\n",
    "\n",
    "D = 1\n",
    "batch_size = 128\n",
    "N = 1\n",
    "dataset = RandDataset(batch_size, N, D)\n",
    "dataset"
   ]
  },
  {
   "cell_type": "markdown",
   "metadata": {},
   "source": [
    "```py\n",
    "class RandDataset(Dataset):\n",
    "    def __init__(self, batch_size, N, D):\n",
    "        self.xs = torch.randn(batch_size*N, D)\n",
    "        self.ys = torch.randn(batch_size*N, 1)\n",
    "\n",
    "    def __len__(self):\n",
    "        return len(self.xs)\n",
    "\n",
    "    def __getitem__(self, idx):\n",
    "        return self.xs[idx], self.ys[idx]\n",
    "```"
   ]
  },
  {
   "cell_type": "markdown",
   "metadata": {},
   "source": [
    "### Neural Network\n",
    "\n",
    "We create a simple neural network (NN). This NN contains two fully-connected layers of dimension $D$ and uses a ReLU activation function. "
   ]
  },
  {
   "cell_type": "code",
   "execution_count": 2,
   "metadata": {},
   "outputs": [],
   "source": [
    "from bdl import MiniNN"
   ]
  },
  {
   "cell_type": "markdown",
   "metadata": {},
   "source": [
    "```py\n",
    "class MiniNN(nn.Module):\n",
    "    def __init__(self, D):\n",
    "        super(MiniNN, self).__init__()\n",
    "        self.fc1 = nn.Linear(D, D)\n",
    "        self.fc2 = nn.Linear(D, D)\n",
    "\n",
    "    def forward(self, x):\n",
    "        x = self.fc1(x)\n",
    "        x = torch.nn.ReLU()(x)\n",
    "        x = self.fc2(x)\n",
    "        return x\n",
    "```"
   ]
  },
  {
   "cell_type": "markdown",
   "metadata": {},
   "source": [
    "# Particles\n",
    "A particle in SVGD is essentially a sample of the target distribution. We iteratively move each particle to more closely match the target distribution with each step. "
   ]
  },
  {
   "cell_type": "markdown",
   "metadata": {},
   "source": [
    "# Running SVGD with Push"
   ]
  },
  {
   "cell_type": "code",
   "execution_count": 5,
   "metadata": {},
   "outputs": [
    {
     "name": "stderr",
     "output_type": "stream",
     "text": [
      "  0%|          | 0/10 [00:00<?, ?it/s]/home/jtsegaye/push/push/bayes/stein_vgd.py:99: UserWarning: To copy construct from a tensor, it is recommended to use sourceTensor.clone().detach() or sourceTensor.clone().detach().requires_grad_(True), rather than torch.tensor(sourceTensor).\n",
      "  losses += [torch.mean(torch.tensor(loss))]\n",
      " 30%|███       | 3/10 [00:00<00:01,  4.87it/s]"
     ]
    },
    {
     "name": "stdout",
     "output_type": "stream",
     "text": [
      "Average loss 1.129563331604004\n",
      "Average loss 1.1290178298950195\n",
      "Average loss 1.1284737586975098\n",
      "Average loss 1.1279314756393433\n",
      "Average loss 1.1273906230926514\n",
      "Average loss 1.1268513202667236\n"
     ]
    },
    {
     "name": "stderr",
     "output_type": "stream",
     "text": [
      " 70%|███████   | 7/10 [00:01<00:00,  8.15it/s]"
     ]
    },
    {
     "name": "stdout",
     "output_type": "stream",
     "text": [
      "Average loss 1.126313328742981\n",
      "Average loss 1.125777006149292\n",
      "Average loss 1.1252423524856567\n"
     ]
    },
    {
     "name": "stderr",
     "output_type": "stream",
     "text": [
      "100%|██████████| 10/10 [00:01<00:00,  7.32it/s]\n"
     ]
    },
    {
     "name": "stdout",
     "output_type": "stream",
     "text": [
      "Average loss 1.124708890914917\n"
     ]
    },
    {
     "data": {
      "text/plain": [
       "[[tensor([[-0.5018]]),\n",
       "  tensor([-0.0146]),\n",
       "  tensor([[-0.1045]]),\n",
       "  tensor([0.5494])],\n",
       " [tensor([[-0.2697]]),\n",
       "  tensor([-0.7861]),\n",
       "  tensor([[0.9004]]),\n",
       "  tensor([0.6909])],\n",
       " [tensor([[-0.6144]]), tensor([0.4019]), tensor([[0.1510]]), tensor([0.2745])],\n",
       " [tensor([[-0.2532]]),\n",
       "  tensor([-0.4474]),\n",
       "  tensor([[-0.0210]]),\n",
       "  tensor([-0.5908])],\n",
       " [tensor([[-0.5249]]),\n",
       "  tensor([-0.3968]),\n",
       "  tensor([[0.0986]]),\n",
       "  tensor([-0.3735])],\n",
       " [tensor([[-0.2767]]),\n",
       "  tensor([-0.6107]),\n",
       "  tensor([[0.9933]]),\n",
       "  tensor([0.0596])],\n",
       " [tensor([[0.3886]]),\n",
       "  tensor([-0.9218]),\n",
       "  tensor([[-0.6591]]),\n",
       "  tensor([-0.9042])],\n",
       " [tensor([[0.9194]]), tensor([0.8958]), tensor([[-0.8129]]), tensor([0.4501])],\n",
       " [tensor([[-0.8457]]),\n",
       "  tensor([0.2612]),\n",
       "  tensor([[-0.5516]]),\n",
       "  tensor([0.3877])],\n",
       " [tensor([[-0.5957]]), tensor([0.3260]), tensor([[0.6869]]), tensor([0.9117])]]"
      ]
     },
     "execution_count": 5,
     "metadata": {},
     "output_type": "execute_result"
    }
   ],
   "source": [
    "import torch\n",
    "from torch.utils.data import DataLoader\n",
    "import push.bayes.stein_vgd\n",
    "\n",
    "dataloader = DataLoader(dataset, batch_size=batch_size, shuffle=True)\n",
    "epochs = 10\n",
    "particles = 10\n",
    "cache_size = 3\n",
    "view_size = 2\n",
    "devices = 1\n",
    "svgd_state = {\n",
    "            \"D\": D,\n",
    "            \"N\": N,\n",
    "        }\n",
    "\n",
    "push.bayes.stein_vgd.train_svgd(\n",
    "        dataloader, torch.nn.MSELoss(),\n",
    "        epochs, particles,\n",
    "        MiniNN, D,\n",
    "        lengthscale=1.0, lr=1e-3, prior=None,\n",
    "        cache_size=cache_size, view_size=view_size, num_devices=devices,\n",
    "        svgd_entry=push.bayes.stein_vgd._svgd_leader, svgd_state=svgd_state\n",
    "    )"
   ]
  },
  {
   "cell_type": "markdown",
   "metadata": {},
   "source": []
  }
 ],
 "metadata": {
  "kernelspec": {
   "display_name": "push_exp",
   "language": "python",
   "name": "python3"
  },
  "language_info": {
   "codemirror_mode": {
    "name": "ipython",
    "version": 3
   },
   "file_extension": ".py",
   "mimetype": "text/x-python",
   "name": "python",
   "nbconvert_exporter": "python",
   "pygments_lexer": "ipython3",
   "version": "3.10.12"
  }
 },
 "nbformat": 4,
 "nbformat_minor": 2
}
