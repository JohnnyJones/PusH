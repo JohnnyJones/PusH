{
 "cells": [
  {
   "cell_type": "markdown",
   "metadata": {},
   "source": [
    "# Push Bayesian Deep Learning Tutorial\n",
    "## Introduction\n",
    "\n",
    "In this notebook we will introduce the concept of Bayesian Deep Learning and demonstrate its usage in Push by running a deep ensemble."
   ]
  },
  {
   "cell_type": "markdown",
   "metadata": {},
   "source": [
    "## The Posterior Predictive Distribution\n",
    "The goal of Bayesian Deep Learning (BDL) methods is to estimate the posterior predictive distribution"
   ]
  },
  {
   "cell_type": "markdown",
   "metadata": {},
   "source": [
    "$$p(y|x, D) = \\int p(y|x, w) p(w|D) \\, dw\n",
    "$$"
   ]
  },
  {
   "cell_type": "markdown",
   "metadata": {},
   "source": [
    "where y is an output, x is an input, w are parameters, and D is is the data. This integral is intractable and must be approximated. The typical method of approximation is Monte Carlo:"
   ]
  },
  {
   "cell_type": "code",
   "execution_count": 1,
   "metadata": {},
   "outputs": [],
   "source": [
    "from typing import *\n",
    "import torch\n",
    "import torch.nn as nn\n",
    "from torch.utils.data import Dataset, DataLoader\n",
    "\n",
    "import push.bayes.ensemble\n",
    "\n",
    "# =============================================================================\n",
    "# Simple Dataset + Neural Network\n",
    "# =============================================================================\n",
    "\n",
    "class RandDataset(Dataset):\n",
    "    def __init__(self, D):\n",
    "        self.xs = torch.randn(128*10, D)\n",
    "        self.ys = torch.randn(128*10, 1)\n",
    "\n",
    "    def __len__(self):\n",
    "        return len(self.xs)\n",
    "\n",
    "    def __getitem__(self, idx):\n",
    "        return self.xs[idx], self.ys[idx]\n",
    "\n",
    "\n",
    "class MiniNN(nn.Module):\n",
    "    def __init__(self, D):\n",
    "        super(MiniNN, self).__init__()\n",
    "        self.fc1 = nn.Linear(D, D)\n",
    "        self.fc2 = nn.Linear(D, D)\n",
    "\n",
    "    def forward(self, x):\n",
    "        x = self.fc1(x)\n",
    "        x = torch.nn.ReLU()(x)\n",
    "        x = self.fc2(x)\n",
    "        return x\n",
    "    \n",
    "\n",
    "class BiggerNN(nn.Module):\n",
    "    def __init__(self, n, D):\n",
    "        super(BiggerNN, self).__init__()\n",
    "        self.minis = []\n",
    "        self.n = n\n",
    "        for i in range(0, n):\n",
    "            self.minis += [MiniNN(D)]\n",
    "            self.add_module(\"mini_layer\"+str(i), self.minis[-1])\n",
    "        self.fc = nn.Linear(D, 1)\n",
    "            \n",
    "    def forward(self, x):\n",
    "        for i in range(0, self.n):\n",
    "            x = self.minis[i](x)\n",
    "        return self.fc(x)\n",
    "\n",
    "\n",
    "\n",
    "\n"
   ]
  },
  {
   "cell_type": "code",
   "execution_count": 2,
   "metadata": {},
   "outputs": [],
   "source": [
    "\n",
    "\n",
    "# L = 10\n",
    "# D = 20\n",
    "# dataset = RandDataset(D)\n",
    "# dataloader = DataLoader(dataset, batch_size=128, shuffle=True)\n",
    "\n",
    "# epochs = 10\n",
    "# num_ensembles = 3\n",
    "# push.bayes.ensemble.train_deep_ensemble(\n",
    "#     dataloader,\n",
    "#     torch.nn.MSELoss(),\n",
    "#     epochs,\n",
    "#     BiggerNN, L, D,\n",
    "#     num_ensembles=num_ensembles\n",
    "# )"
   ]
  },
  {
   "cell_type": "markdown",
   "metadata": {},
   "source": [
    "References:\n",
    "https://cims.nyu.edu/~andrewgw/deepensembles/"
   ]
  }
 ],
 "metadata": {
  "kernelspec": {
   "display_name": "push_exp",
   "language": "python",
   "name": "python3"
  },
  "language_info": {
   "codemirror_mode": {
    "name": "ipython",
    "version": 3
   },
   "file_extension": ".py",
   "mimetype": "text/x-python",
   "name": "python",
   "nbconvert_exporter": "python",
   "pygments_lexer": "ipython3",
   "version": "3.10.12"
  }
 },
 "nbformat": 4,
 "nbformat_minor": 2
}
