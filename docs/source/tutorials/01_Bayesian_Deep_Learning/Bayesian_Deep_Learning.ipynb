{
 "cells": [
  {
   "cell_type": "markdown",
   "metadata": {},
   "source": [
    "# Push Bayesian Deep Learning Tutorial\n",
    "## Introduction\n",
    "\n",
    "In this notebook we will introduce the concept of bayesian deep learning and demonstrate its usage in Push by running a deep ensemble."
   ]
  },
  {
   "cell_type": "markdown",
   "metadata": {},
   "source": [
    "## The Posterior Predictive Distribution\n",
    "The goal of bayesian deep learning methods is to estimate the posterior predictive distribution"
   ]
  },
  {
   "cell_type": "markdown",
   "metadata": {},
   "source": [
    "$$p(y|x, D) = \\int p(y|x, w) p(w|D) \\, dw\n",
    "$$"
   ]
  },
  {
   "cell_type": "markdown",
   "metadata": {},
   "source": [
    "where y is an output, x is an input, w are parameters, and D is is the data. This integral is intractable and must be approximated. Nearly all approaches to estimating this integral when it cannot be computed in closed form, involve a simple Monte Carlo approximation [1]: \n",
    "$$p(y|x, D) \\approx \\frac{1}{J} \\sum_{j=1}^{J} p(y|x, w_j), \\quad w_j \\sim p(w|D)$$\n"
   ]
  },
  {
   "cell_type": "markdown",
   "metadata": {},
   "source": [
    "with each $w_j$ corresponding to a unique parameter setting. Deep Ensembles train J different initializations of the same nueral network, producing J parameter settings. If we average $p(y|x, w_j)$ over J models, as shown above, we are essentially creating a Bayesian Model Average which approximates the posterior predictive distribution. Thus deep ensembles are a valid bayesian deep learning method, inspiring this tutorial as it is one of the the simpler forms of bayesian deep learning methods to implement and grasp."
   ]
  },
  {
   "cell_type": "code",
   "execution_count": 1,
   "metadata": {},
   "outputs": [
    {
     "name": "stdout",
     "output_type": "stream",
     "text": [
      "/home/jtsegaye/push/docs/source/tutorials/01_Bayesian_Deep_Learning\n"
     ]
    }
   ],
   "source": []
  },
  {
   "cell_type": "code",
   "execution_count": 1,
   "metadata": {},
   "outputs": [],
   "source": [
    "from typing import *\n",
    "import torch\n",
    "import torch.nn as nn\n",
    "from torch.utils.data import Dataset, DataLoader\n",
    "from test_basic import RandDataset, MiniNN, BiggerNN\n",
    "\n",
    "\n",
    "import push.bayes.ensemble\n",
    "\n",
    "\n",
    "\n",
    "# =============================================================================\n",
    "# Simple Dataset + Neural Network\n",
    "# =============================================================================\n",
    "\n",
    "# class RandDataset(Dataset):\n",
    "#     def __init__(self, batch_size, N, D):\n",
    "#         self.xs = torch.randn(batch_size*N, D)\n",
    "#         self.ys = torch.randn(batch_size*N, 1)\n",
    "\n",
    "#     def __len__(self):\n",
    "#         return len(self.xs)\n",
    "\n",
    "#     def __getitem__(self, idx):\n",
    "#         return self.xs[idx], self.ys[idx]\n",
    "\n",
    "\n",
    "# class MiniNN(nn.Module):\n",
    "#     def __init__(self, D):\n",
    "#         super(MiniNN, self).__init__()\n",
    "#         self.fc1 = nn.Linear(D, D)\n",
    "#         self.fc2 = nn.Linear(D, D)\n",
    "\n",
    "#     def forward(self, x):\n",
    "#         x = self.fc1(x)\n",
    "#         x = torch.nn.ReLU()(x)\n",
    "#         x = self.fc2(x)\n",
    "#         return x\n",
    "    \n",
    "\n",
    "# class BiggerNN(nn.Module):\n",
    "#     def __init__(self, n, D):\n",
    "#         super(BiggerNN, self).__init__()\n",
    "#         self.minis = []\n",
    "#         self.n = n\n",
    "#         for i in range(0, n):\n",
    "#             self.minis += [MiniNN(D)]\n",
    "#             self.add_module(\"mini_layer\"+str(i), self.minis[-1])\n",
    "#         self.fc = nn.Linear(D, 1)\n",
    "            \n",
    "#     def forward(self, x):\n",
    "#         for i in range(0, self.n):\n",
    "#             x = self.minis[i](x)\n",
    "#         return self.fc(x)\n",
    "\n"
   ]
  },
  {
   "cell_type": "code",
   "execution_count": 7,
   "metadata": {},
   "outputs": [
    {
     "name": "stderr",
     "output_type": "stream",
     "text": [
      "  0%|          | 0/10 [00:00<?, ?it/s]"
     ]
    }
   ],
   "source": [
    "# Dataset\n",
    "L = 5\n",
    "D = 10\n",
    "N = 1000\n",
    "batchsize = 32\n",
    "dataset = RandDataset(batchsize, N, D)\n",
    "dataloader = DataLoader(dataset, batch_size=batchsize, shuffle=True)\n",
    "\n",
    "# Dispatch\n",
    "def mk_dataloader():\n",
    "    return DataLoader(RandDataset(batchsize, N, D), batch_size=batchsize, shuffle=True)\n",
    "\n",
    "epochs = 10\n",
    "num_ensembles = 4\n",
    "push.bayes.ensemble.train_deep_ensemble(\n",
    "    dataloader, # mk_dataloader,\n",
    "    torch.nn.MSELoss(),\n",
    "    epochs,\n",
    "    BiggerNN, L, D,\n",
    "    num_devices=2,\n",
    "    num_ensembles=num_ensembles\n",
    ")\n"
   ]
  },
  {
   "cell_type": "markdown",
   "metadata": {},
   "source": [
    "References:\n",
    "\n",
    "[1] A.G. Wilson, P. Izmailov. Bayesian Deep Learning and a Probabilistic Perspective of Generalization. Advances in Neural Information Processing Systems, 2020."
   ]
  }
 ],
 "metadata": {
  "kernelspec": {
   "display_name": "push_exp",
   "language": "python",
   "name": "python3"
  },
  "language_info": {
   "codemirror_mode": {
    "name": "ipython",
    "version": 3
   },
   "file_extension": ".py",
   "mimetype": "text/x-python",
   "name": "python",
   "nbconvert_exporter": "python",
   "pygments_lexer": "ipython3",
   "version": "3.10.12"
  }
 },
 "nbformat": 4,
 "nbformat_minor": 2
}
